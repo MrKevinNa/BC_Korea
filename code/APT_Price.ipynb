{
 "cells": [
  {
   "cell_type": "markdown",
   "id": "f481ee61",
   "metadata": {},
   "source": [
    "<p style=\"font-family:verdana;font-size:200%;text-align:center;\">아파트가격 데이터 분석</p>"
   ]
  },
  {
   "cell_type": "markdown",
   "id": "26b06ac1",
   "metadata": {},
   "source": [
    "### 부제 : Python을 활용한 아파트가격 결정모형"
   ]
  },
  {
   "cell_type": "markdown",
   "id": "b8f41f7a",
   "metadata": {},
   "source": [
    "### 이번 시간 강의 내용\n",
    "\n",
    "1. 실습 데이터셋 준비 : **requests**, **chardet** & **pandas** 라이브러리\n",
    "1. 탐색적 데이터 분석\n",
    "1. 데이터 시각화 : **seaborn** & **matplotlib** 라이브러리\n",
    "1. 회귀모형 적합 : **statsmodels** & **sklearn** 라이브러리"
   ]
  },
  {
   "cell_type": "markdown",
   "id": "36612e02",
   "metadata": {},
   "source": [
    "### 강의자료 준비\n",
    "\n",
    "* 작업경로로 사용할 폴더를 생성합니다.\n",
    " - 문서(Documents) 폴더에 **BC_Korea**라는 폴더를 생성합니다.\n",
    " - Windows : 'C:/Users/User_name/Documents/BC_Korea'\n",
    " - MacOS : '/Users/User_name/Documents/BC_Korea'\n",
    "\n",
    "\n",
    "* 이번 강의에 사용될 [코드 및 데이터](https://codeload.github.com/MrKevinNa/BC_Korea/zip/refs/heads/main)를 압축파일로 내려받습니다.\n",
    " - 일반적으로 압축파일은 다운로드(Downloads) 폴더에 저장되어 있습니다.\n",
    " - 압축파일에는 **code** 및 **data** 폴더가 포함되어 있습니다.\n",
    " - 압축파일을 풀고 **code** 및 **data** 폴더를 작업경로인 **BC_Korea** 폴더로 옮깁니다.\n",
    "\n",
    "\n",
    "* [서울 강남 아파트가격 데이터](http://bit.ly/Gangnam_APT_Price_2020_txt)를 읽고 데이터프레임으로 생성합니다.\n",
    " - price : 거래금액 (단위: 억원)\n",
    " - date : 거래일자\n",
    " - aptName : 아파트단지명\n",
    " - dongName : 법정동\n",
    " - householdCnt : 아파트단지 세대수\n",
    " - floorAreaRate : 아파트단지 용적률\n",
    " - parkingLotCnt : 아파트단지 주차대수\n",
    " - exclusiveArea : 전용면적\n",
    " - floor : 층"
   ]
  },
  {
   "cell_type": "markdown",
   "id": "3b188f76",
   "metadata": {},
   "source": [
    "### 실습 데이터셋 준비 : requests, chardet & pandas 라이브러리"
   ]
  },
  {
   "cell_type": "code",
   "execution_count": null,
   "id": "fa8d6137",
   "metadata": {},
   "outputs": [],
   "source": [
    "# 라이브러리를 호출합니다.\n",
    "import requests, chardet\n",
    "import numpy as np\n",
    "import pandas as pd"
   ]
  },
  {
   "cell_type": "code",
   "execution_count": null,
   "id": "914a6643",
   "metadata": {},
   "outputs": [],
   "source": [
    "# 실습 데이터셋이 저장된 URL을 지정합니다.\n",
    "url = 'http://bit.ly/Gangnam_APT_Price_2020_txt'"
   ]
  },
  {
   "cell_type": "code",
   "execution_count": null,
   "id": "e3f25c43",
   "metadata": {},
   "outputs": [],
   "source": [
    "# HTTP 요청을 실행합니다.\n",
    "res = requests.get(url = url)"
   ]
  },
  {
   "cell_type": "code",
   "execution_count": null,
   "id": "fc52e5c5",
   "metadata": {},
   "outputs": [],
   "source": [
    "# HTTP 응답 헤더를 확인합니다. \n",
    "# 'Content-Length'와 'Content-Type' 위주로 내용을 확인합니다.\n",
    "res.headers"
   ]
  },
  {
   "cell_type": "code",
   "execution_count": null,
   "id": "415f0c9b",
   "metadata": {},
   "outputs": [],
   "source": [
    "# HTTP 응답 상태코드를 확인합니다.\n",
    "# 200이면 정상입니다.\n",
    "res.status_code"
   ]
  },
  {
   "cell_type": "code",
   "execution_count": null,
   "id": "3f279315",
   "metadata": {},
   "outputs": [],
   "source": [
    "# HTTP 응답에 포함된 Body(텍스트)의 일부를 문자열(str)로 출력합니다.\n",
    "# 구분자가 세미콜론인 것을 알 수 있습니다.\n",
    "res.text[:200]"
   ]
  },
  {
   "cell_type": "code",
   "execution_count": null,
   "id": "8f8f14f7",
   "metadata": {},
   "outputs": [],
   "source": [
    "# HTTP 응답에 포함된 Body(텍스트)의 일부를 바이너리(bytes)로 출력합니다.\n",
    "res.content[:200]"
   ]
  },
  {
   "cell_type": "code",
   "execution_count": null,
   "id": "fd6b15bb",
   "metadata": {},
   "outputs": [],
   "source": [
    "# 바이너리의 인코딩 방식을 확인합니다.\n",
    "chardet.detect(res.content[:200])"
   ]
  },
  {
   "cell_type": "code",
   "execution_count": null,
   "id": "9ea97190",
   "metadata": {},
   "outputs": [],
   "source": [
    "# 텍스트 파일을 읽고, 데이터프레임 df를 생성합니다.\n",
    "# 구분자(separator)가 세미콜론(;)이므로 추가해야 합니다. (기본값 : ',')\n",
    "# 인코딩 방식은 'UTF-8'이므로 추가할 필요 없습니다. \n",
    "# 만약 인코딩 방식이 'EUC-KR'이면 encoding = 'EUC-KR'를 추가해야 합니다.\n",
    "df = pd.read_csv(filepath_or_buffer = url, sep = ';')"
   ]
  },
  {
   "cell_type": "code",
   "execution_count": null,
   "id": "9a473f17",
   "metadata": {},
   "outputs": [],
   "source": [
    "# df의 일부를 출력합니다. n 매개변수에 전달되는 인자의 기본값은 5입니다.\n",
    "df.head(n = 10)"
   ]
  },
  {
   "cell_type": "code",
   "execution_count": null,
   "id": "0506cf4f",
   "metadata": {},
   "outputs": [],
   "source": [
    "# df의 정보를 확인합니다.\n",
    "# 행 길이, 열 길이, 열별 결측값 아닌 개수 및 자료형(data type)을 확인합니다.\n",
    "df.info()"
   ]
  },
  {
   "cell_type": "code",
   "execution_count": null,
   "id": "ea7a8944",
   "metadata": {},
   "outputs": [],
   "source": [
    "# 열이름을 한글로 변경합니다.\n",
    "df.columns = ['거래금액', '거래일자', '아파트명', '법정동명', '세대수', '용적률', '주차대수', '전용면적', '층']"
   ]
  },
  {
   "cell_type": "code",
   "execution_count": null,
   "id": "b9634825",
   "metadata": {},
   "outputs": [],
   "source": [
    "# 거래일자를 날짜형으로 변환합니다.\n",
    "df['거래일자'] = df['거래일자'].astype('str').astype('datetime64')"
   ]
  },
  {
   "cell_type": "code",
   "execution_count": null,
   "id": "7177694f",
   "metadata": {},
   "outputs": [],
   "source": [
    "# df의 열별 자료형을 확인합니다.\n",
    "df.dtypes"
   ]
  },
  {
   "cell_type": "code",
   "execution_count": null,
   "id": "79a3bffc",
   "metadata": {},
   "outputs": [],
   "source": [
    "# 거래일자별 빈도수를 확인합니다.\n",
    "df['거래일자'].value_counts().sort_index().reset_index()"
   ]
  },
  {
   "cell_type": "code",
   "execution_count": null,
   "id": "147493e3",
   "metadata": {},
   "outputs": [],
   "source": [
    "# 거래일자에서 요일을 추출합니다.\n",
    "df['요일정수'] = df['거래일자'].dt.day_of_week.astype('str')\n",
    "df['요일'] = df['거래일자'].dt.day_name()"
   ]
  },
  {
   "cell_type": "code",
   "execution_count": null,
   "id": "000b4b07",
   "metadata": {},
   "outputs": [],
   "source": [
    "# df의 일부를 출력합니다.\n",
    "df.head()"
   ]
  },
  {
   "cell_type": "markdown",
   "id": "64fb880e",
   "metadata": {},
   "source": [
    "- 거래요일이 영문으로 생성되었습니다. \n",
    "- 이는 로케일 문제이므로 한글 로케일로 변경하고 변수를 다시 생성해야 합니다."
   ]
  },
  {
   "cell_type": "code",
   "execution_count": null,
   "id": "d236c055",
   "metadata": {},
   "outputs": [],
   "source": [
    "# 라이브러리를 호출합니다.\n",
    "import locale"
   ]
  },
  {
   "cell_type": "code",
   "execution_count": null,
   "id": "aebb3018",
   "metadata": {},
   "outputs": [],
   "source": [
    "# 현재 설정된 날짜/시간 로케일을 확인합니다.\n",
    "locale.getlocale(category = locale.LC_TIME)"
   ]
  },
  {
   "cell_type": "code",
   "execution_count": null,
   "id": "5a1035b0",
   "metadata": {},
   "outputs": [],
   "source": [
    "# 날짜/시간 로케일을 '한국'으로 변경합니다.\n",
    "# MacOS는 'ko_KR', Windows는 'korean'으로 지정하세요.\n",
    "locale.setlocale(category = locale.LC_TIME, locale = 'ko_KR')"
   ]
  },
  {
   "cell_type": "code",
   "execution_count": null,
   "id": "50c64be7",
   "metadata": {},
   "outputs": [],
   "source": [
    "# 거래일자에서 한글 요일을 추출합니다. '%A'는 '요일'에 해당하는 포맷입니다.\n",
    "df['요일'] = df['거래일자'].dt.strftime('%A')"
   ]
  },
  {
   "cell_type": "code",
   "execution_count": null,
   "id": "8e5340bd",
   "metadata": {},
   "outputs": [],
   "source": [
    "# 데이터프레임의 일부를 출력합니다.\n",
    "df.head()"
   ]
  },
  {
   "cell_type": "code",
   "execution_count": null,
   "id": "e110994d",
   "metadata": {},
   "outputs": [],
   "source": [
    "# 요일정수와 요일을 하나의 문자열로 결합하고, 요일정수를 삭제합니다.\n",
    "cols = ['요일정수', '요일']\n",
    "df['요일'] = df[cols].apply(lambda x: '-'.join(x), axis = 1)\n",
    "df = df.drop(labels = ['요일정수'], axis = 1)"
   ]
  },
  {
   "cell_type": "code",
   "execution_count": null,
   "id": "9fd29628",
   "metadata": {},
   "outputs": [],
   "source": [
    "# 데이터프레임의 일부를 출력합니다.\n",
    "df.head()"
   ]
  },
  {
   "cell_type": "code",
   "execution_count": null,
   "id": "c2e7f57d",
   "metadata": {},
   "outputs": [],
   "source": [
    "# 세대당 주차대수 변수를 생성합니다.\n",
    "# 반올림하여 소수점 둘째자리까지 남깁니다.\n",
    "df['세대주차'] = (df['주차대수'] / df['세대수']).round(2)"
   ]
  },
  {
   "cell_type": "code",
   "execution_count": null,
   "id": "af051640",
   "metadata": {},
   "outputs": [],
   "source": [
    "# 데이터프레임의 일부를 출력합니다.\n",
    "df.head()"
   ]
  },
  {
   "cell_type": "markdown",
   "id": "c7b2a933",
   "metadata": {},
   "source": [
    "### 탐색적 데이터 분석\n",
    "\n",
    "- 숫자형 변수와 문자형 변수의 기술통계량 확인\n",
    "- 숫자형 입력변수와 목표변수(거래금액)의 상관관계 확인\n",
    "- 숫자형 입력변수간 상관관계 확인 : 다중공선성 입력변수 탐색"
   ]
  },
  {
   "cell_type": "code",
   "execution_count": null,
   "id": "a6f8b5c1",
   "metadata": {},
   "outputs": [],
   "source": [
    "# 지수표현식으로 출력되지 않도록 하는 설정합니다.\n",
    "# [참고] 모든 실수가 소수점 넷째 자리까지 출력되므로 불편할 수 있습니다.\n",
    "# pd.options.display.float_format = '{:.4f}'.format\n",
    "\n",
    "# 숫자형 변수(열)의 기술통계량을 확인합니다.\n",
    "df.describe()"
   ]
  },
  {
   "cell_type": "code",
   "execution_count": null,
   "id": "d6471a36",
   "metadata": {},
   "outputs": [],
   "source": [
    "# 문자형 변수(열)의 기술통계량을 확인합니다.\n",
    "df.describe(include = 'object')"
   ]
  },
  {
   "cell_type": "markdown",
   "id": "0afd4756",
   "metadata": {},
   "source": [
    "#### 피어슨 상관분석"
   ]
  },
  {
   "cell_type": "code",
   "execution_count": null,
   "id": "00c0fb7f",
   "metadata": {},
   "outputs": [],
   "source": [
    "# 라이브러리를 호출합니다.\n",
    "from scipy import stats"
   ]
  },
  {
   "cell_type": "code",
   "execution_count": null,
   "id": "fd9dee13",
   "metadata": {},
   "outputs": [],
   "source": [
    "# 입력변수명을 리스트로 생성합니다.\n",
    "cols = ['세대수', '용적률', '주차대수', '전용면적', '층', '세대주차']"
   ]
  },
  {
   "cell_type": "code",
   "execution_count": null,
   "id": "31fadc34",
   "metadata": {},
   "outputs": [],
   "source": [
    "# 입력변수와 목표변수의 피어슨 상관분석 결과를 데이터프레임으로 생성합니다.\n",
    "# apply() 함수를 이용하여 입력변수별로 반복 실행합니다.\n",
    "corr = df[cols].apply(lambda x: stats.pearsonr(x = x, y = df['거래금액']), axis = 0).round(4)"
   ]
  },
  {
   "cell_type": "code",
   "execution_count": null,
   "id": "be6f1236",
   "metadata": {},
   "outputs": [],
   "source": [
    "# corr을 출력합니다.\n",
    "corr"
   ]
  },
  {
   "cell_type": "code",
   "execution_count": null,
   "id": "d09e8aa6",
   "metadata": {},
   "outputs": [],
   "source": [
    "# corr의 행이름을 변경합니다.\n",
    "corr.index = ['상관계수', '유의확률']"
   ]
  },
  {
   "cell_type": "code",
   "execution_count": null,
   "id": "1d3a23f1",
   "metadata": {},
   "outputs": [],
   "source": [
    "# corr을 다시 출력합니다.\n",
    "corr"
   ]
  },
  {
   "cell_type": "code",
   "execution_count": null,
   "id": "412eb7d0",
   "metadata": {},
   "outputs": [],
   "source": [
    "# 숫자형 입력변수간 피어슨 상관계수 행렬 출력합니다. (다중공선성 입력변수 탐색)\n",
    "# 주대각원소는 자기 자신과의 상관계수이므로 1이 됩니다.\n",
    "df[cols].corr()"
   ]
  },
  {
   "cell_type": "code",
   "execution_count": null,
   "id": "bde6f5b1",
   "metadata": {},
   "outputs": [],
   "source": [
    "# 상관계수가 0.8 이상인 관계가 있는지 확인합니다.\n",
    "# True에 해당하는 입력변수는 '세대수와 주차대수'입니다.\n",
    "df[cols].corr() >= 0.8"
   ]
  },
  {
   "cell_type": "markdown",
   "id": "6b03df6f",
   "metadata": {},
   "source": [
    "### 데이터 시각화 : seaborn & matplotlib 라이브러리"
   ]
  },
  {
   "cell_type": "markdown",
   "id": "f101c99e",
   "metadata": {},
   "source": [
    "### 그래프 옵션 및 폰트 설정"
   ]
  },
  {
   "cell_type": "code",
   "execution_count": null,
   "id": "bec74ad1",
   "metadata": {},
   "outputs": [],
   "source": [
    "# 라이브러리를 호출합니다.\n",
    "import seaborn as sns\n",
    "import matplotlib.pyplot as plt\n",
    "import matplotlib.font_manager as fm\n",
    "%matplotlib inline"
   ]
  },
  {
   "cell_type": "code",
   "execution_count": null,
   "id": "5ff93547",
   "metadata": {},
   "outputs": [],
   "source": [
    "# 그래프의 크기와 해상도를 설정합니다.\n",
    "plt.rcParams['figure.figsize'] = (8, 4)\n",
    "plt.rcParams['figure.dpi'] = 100"
   ]
  },
  {
   "cell_type": "markdown",
   "id": "3a54416d",
   "metadata": {},
   "source": [
    "#### 구글 폰트에 등록된 한글 폰트를 설치하는 방법을 소개합니다.\n",
    "\n",
    "- [구글 폰트](https://fonts.google.com/?subset=korean)에서 원하는 한글 폰트를 선택합니다.\n",
    "- 한글 폰트를 압축파일을 내려받습니다.\n",
    "- 다운로드 폴더로 이동하여 압출파일을 풀면 **ttf(true type font)** 파일이 포함되어 있습니다.\n",
    "- **ttf** 파일에서 마우스 오른쪽 버튼을 클릭하고, **설치** 메뉴를 선택하면 폰트가 설치됩니다."
   ]
  },
  {
   "cell_type": "code",
   "execution_count": null,
   "id": "fc51d3a0",
   "metadata": {},
   "outputs": [],
   "source": [
    "# 사용 중인 컴퓨터에 설치된 폰트 목록을 생성합니다.\n",
    "fontList = fm.findSystemFonts(fontext = 'ttf')"
   ]
  },
  {
   "cell_type": "code",
   "execution_count": null,
   "id": "5b024df1",
   "metadata": {},
   "outputs": [],
   "source": [
    "# 설치된 폰트 개수를 확인합니다.\n",
    "len(fontList)"
   ]
  },
  {
   "cell_type": "code",
   "execution_count": null,
   "id": "97cb8e31",
   "metadata": {},
   "outputs": [],
   "source": [
    "# 폰트 목록의 일부를 출력합니다.\n",
    "fontList[0:10]"
   ]
  },
  {
   "cell_type": "code",
   "execution_count": null,
   "id": "a448f9c2",
   "metadata": {},
   "outputs": [],
   "source": [
    "# 원하는 한글 폰트명으로 폰트 경로를 찾습니다.\n",
    "fontPath = [font for font in fontList if 'GamjaFlower' in font]"
   ]
  },
  {
   "cell_type": "code",
   "execution_count": null,
   "id": "4391db3e",
   "metadata": {},
   "outputs": [],
   "source": [
    "# 한글 폰트 경로를 출력하고, 원하는 것을 선택합니다.\n",
    "for i, e in enumerate(fontPath):\n",
    "    print(i, e)"
   ]
  },
  {
   "cell_type": "code",
   "execution_count": null,
   "id": "83ebe5d8",
   "metadata": {},
   "outputs": [],
   "source": [
    "# 한글 폰트 정보를 생성합니다.\n",
    "fontProp = fm.FontProperties(fname = fontPath[0])"
   ]
  },
  {
   "cell_type": "code",
   "execution_count": null,
   "id": "e51d8641",
   "metadata": {},
   "outputs": [],
   "source": [
    "# 한글 폰트와 글자 크기를 설정합니다.\n",
    "plt.rcParams['font.family'] = fontProp.get_name()\n",
    "plt.rcParams['font.size'] = 12"
   ]
  },
  {
   "cell_type": "markdown",
   "id": "ad48d54e",
   "metadata": {},
   "source": [
    "#### 목표변수의 분포 확인"
   ]
  },
  {
   "cell_type": "code",
   "execution_count": null,
   "id": "4e9fdaa6",
   "metadata": {},
   "outputs": [],
   "source": [
    "# 목표변수의 최소값과 최대값을 확인합니다.\n",
    "df['거래금액'].describe()[['min', 'max']]"
   ]
  },
  {
   "cell_type": "code",
   "execution_count": null,
   "id": "65d30236",
   "metadata": {},
   "outputs": [],
   "source": [
    "# 히스토그램의 계급(경계)을 설정합니다.\n",
    "# 히스토그램의 계급은 최소값보다 작은 숫자로 시작하고, 최대값보다 큰 숫자로 끝나야 합니다.\n",
    "bins = np.arange(0, 68, 1)"
   ]
  },
  {
   "cell_type": "code",
   "execution_count": null,
   "id": "ae0d0d4c",
   "metadata": {},
   "outputs": [],
   "source": [
    "# 히스토그램을 그립니다.\n",
    "sns.histplot(data = df, x = '거래금액', bins = bins, color = 'pink')\n",
    "plt.title(label = '아파트 거래금액 분포')\n",
    "plt.xlabel(xlabel = '거래금액(억원)')\n",
    "plt.ylabel(ylabel = '거래건수');"
   ]
  },
  {
   "cell_type": "markdown",
   "id": "d74d721b",
   "metadata": {},
   "source": [
    "#### 입력변수와 목표변수의 선형관계 확인 (산점도 & 회귀직선)"
   ]
  },
  {
   "cell_type": "code",
   "execution_count": null,
   "id": "9b862d80",
   "metadata": {},
   "outputs": [],
   "source": [
    "# 산점도와 회귀직선을 시각화하는 함수를 정의합니다.\n",
    "# 매개변수로 data(데이터프레임), x(입력변수명) 및 y(목표변수명)을 설정합니다.\n",
    "def drawScatter(data, x, y):\n",
    "    sns.regplot(data = data, x = x, y = y, color = 'black')\n",
    "    sns.scatterplot(data = data, x = x, y = y, color = 'darkred', alpha = 0.5)\n",
    "    plt.title(label = f'{x} 및 {y}의 관계');"
   ]
  },
  {
   "cell_type": "code",
   "execution_count": null,
   "id": "66f9dc7a",
   "metadata": {},
   "outputs": [],
   "source": [
    "# 세대수와 거래금액의 선형관계를 확인합니다.\n",
    "drawScatter(data = df, x = '세대수', y = '거래금액')"
   ]
  },
  {
   "cell_type": "code",
   "execution_count": null,
   "id": "ebddb2e6",
   "metadata": {},
   "outputs": [],
   "source": [
    "# 용적률과 거래금액의 선형관계를 확인합니다.\n",
    "drawScatter(data = df, x = '용적률', y = '거래금액')"
   ]
  },
  {
   "cell_type": "code",
   "execution_count": null,
   "id": "c47eef66",
   "metadata": {},
   "outputs": [],
   "source": [
    "# 주차대수와 거래금액의 선형관계를 확인합니다.\n",
    "drawScatter(data = df, x = '주차대수', y = '거래금액')"
   ]
  },
  {
   "cell_type": "code",
   "execution_count": null,
   "id": "3d182615",
   "metadata": {},
   "outputs": [],
   "source": [
    "# 전용면적과 거래금액의 선형관계를 확인합니다.\n",
    "drawScatter(data = df, x = '전용면적', y = '거래금액')"
   ]
  },
  {
   "cell_type": "code",
   "execution_count": null,
   "id": "0f26871e",
   "metadata": {},
   "outputs": [],
   "source": [
    "# 층과 거래금액의 선형관계를 확인합니다.\n",
    "drawScatter(data = df, x = '층', y = '거래금액')"
   ]
  },
  {
   "cell_type": "code",
   "execution_count": null,
   "id": "d23a3ba9",
   "metadata": {},
   "outputs": [],
   "source": [
    "# 세대주차와 거래금액의 선형관계를 확인합니다.\n",
    "drawScatter(data = df, x = '세대주차', y = '거래금액')"
   ]
  },
  {
   "cell_type": "code",
   "execution_count": null,
   "id": "f01a751e",
   "metadata": {},
   "outputs": [],
   "source": [
    "# 요일별 거래금액의 평균을 계산합니다.\n",
    "weekdayMeanPrice = df.groupby('요일').mean()[['거래금액']].sort_index().reset_index()"
   ]
  },
  {
   "cell_type": "code",
   "execution_count": null,
   "id": "ecfe48f3",
   "metadata": {},
   "outputs": [],
   "source": [
    "# weekdayMeanPrice를 출력합니다.\n",
    "weekdayMeanPrice"
   ]
  },
  {
   "cell_type": "code",
   "execution_count": null,
   "id": "eeb80f0f",
   "metadata": {},
   "outputs": [],
   "source": [
    "# 상자수염그림으로 요일별 거래금액의 분포를 비교합니다.\n",
    "sns.boxplot(data = df, x = '요일', y = '거래금액', \n",
    "            order = weekdayMeanPrice['요일'], palette = 'Spectral')\n",
    "sns.scatterplot(data = weekdayMeanPrice, x = '요일', y = '거래금액', \n",
    "                color = 'red', edgecolor = 'black', s = 50)\n",
    "plt.axhline(y = df['거래금액'].mean(), color = 'red', linewidth = 2)\n",
    "plt.title(label = '요일별 거래금액의 분포 비교');"
   ]
  },
  {
   "cell_type": "markdown",
   "id": "83175a9c",
   "metadata": {},
   "source": [
    "### 다중선형 회귀분석 : statsmodels & sklearn 라이브러리"
   ]
  },
  {
   "cell_type": "markdown",
   "id": "f9c0f762",
   "metadata": {},
   "source": [
    "#### 실습 데이터셋 분할"
   ]
  },
  {
   "cell_type": "code",
   "execution_count": null,
   "id": "58684117",
   "metadata": {},
   "outputs": [],
   "source": [
    "# 관련 라이브러리를 호출합니다.\n",
    "from sklearn.model_selection import train_test_split"
   ]
  },
  {
   "cell_type": "code",
   "execution_count": null,
   "id": "2d912f54",
   "metadata": {},
   "outputs": [],
   "source": [
    "# 데이터프레임의 열이름을 출력합니다.\n",
    "df.columns"
   ]
  },
  {
   "cell_type": "code",
   "execution_count": null,
   "id": "ce17c0ba",
   "metadata": {},
   "outputs": [],
   "source": [
    "# 필요 없는 변수를 삭제합니다.\n",
    "df = df.drop(labels = ['거래일자', '아파트명', '법정동명', '요일'], axis = 1)"
   ]
  },
  {
   "cell_type": "code",
   "execution_count": null,
   "id": "c32108d7",
   "metadata": {},
   "outputs": [],
   "source": [
    "# 목표변수를 지정합니다.\n",
    "yvar = '거래금액'"
   ]
  },
  {
   "cell_type": "code",
   "execution_count": null,
   "id": "44c9500e",
   "metadata": {},
   "outputs": [],
   "source": [
    "# 입력변수 행렬 X와 목표변수 벡터 y를 각각 생성합니다.\n",
    "X, y = df.drop(labels = [yvar], axis = 1), df[yvar]"
   ]
  },
  {
   "cell_type": "code",
   "execution_count": null,
   "id": "2271e7dd",
   "metadata": {},
   "outputs": [],
   "source": [
    "# 전체 데이터의 70%를 훈련셋, 30%를 시험셋으로 분할합니다.\n",
    "X_trn, X_tst, y_trn, y_tst = train_test_split(X, y, test_size = 0.3, random_state = 1234)"
   ]
  },
  {
   "cell_type": "code",
   "execution_count": null,
   "id": "c6d67477",
   "metadata": {},
   "outputs": [],
   "source": [
    "# 훈련셋과 시험셋의 목표변수 평균을 확인합니다.\n",
    "print(y_trn.mean())\n",
    "print(y_tst.mean())"
   ]
  },
  {
   "cell_type": "markdown",
   "id": "b6ab8938",
   "metadata": {},
   "source": [
    "#### 다중선형 회귀모형 적합"
   ]
  },
  {
   "cell_type": "code",
   "execution_count": null,
   "id": "12849c37",
   "metadata": {},
   "outputs": [],
   "source": [
    "# 라이브러리를 호출합니다.\n",
    "import statsmodels.api as sm"
   ]
  },
  {
   "cell_type": "code",
   "execution_count": null,
   "id": "ceb0769d",
   "metadata": {},
   "outputs": [],
   "source": [
    "# 훈련셋 입력변수 행렬에 y절편의 역할을 수행할 상수 1을 추가합니다.\n",
    "X_trn = sm.add_constant(data = X_trn)"
   ]
  },
  {
   "cell_type": "code",
   "execution_count": null,
   "id": "7cc1c58a",
   "metadata": {},
   "outputs": [],
   "source": [
    "# 다중선형 회귀모형을 반환하는 함수를 정의합니다.\n",
    "def ols(y, X):\n",
    "    model = sm.OLS(endog = y, exog = X)\n",
    "    return model.fit()"
   ]
  },
  {
   "cell_type": "code",
   "execution_count": null,
   "id": "0c7554da",
   "metadata": {},
   "outputs": [],
   "source": [
    "# 훈련셋으로 다중선형 회귀모형 적합 결과를 확인합니다.\n",
    "ols(y = y_trn, X = X_trn).summary()"
   ]
  },
  {
   "cell_type": "markdown",
   "id": "a9e8d3fc",
   "metadata": {},
   "source": [
    "#### 분산팽창지수 확인 : 다중공선성 입력변수 탐색"
   ]
  },
  {
   "cell_type": "code",
   "execution_count": null,
   "id": "bcdb1cca",
   "metadata": {},
   "outputs": [],
   "source": [
    "# 입력변수별 분산팽창지수를 출력하는 함수를 정의합니다.\n",
    "def vif(X):\n",
    "    \n",
    "    # 라이브러리를 호출합니다.\n",
    "    from statsmodels.stats import outliers_influence as oi\n",
    "    \n",
    "    # 입력변수별 분산팽창지수를 계산하는 함수를 설정합니다.\n",
    "    func = oi.variance_inflation_factor\n",
    "    \n",
    "    # X의 열 길이를 ncol에 지정합니다.\n",
    "    ncol = X.shape[1]\n",
    "    \n",
    "    # X의 두 번째 열부터 끝까지 반복하며 분산팽창지수를 계산합니다.\n",
    "    vifs = [func(exog = X.values, exog_idx = i) for i in range(1, ncol)]\n",
    "    \n",
    "    # 분산팽창지수를 데이터프레임으로 생성합니다. 열이름은 입력변수명으로 설정합니다.\n",
    "    result = pd.DataFrame(data = vifs, index = X.columns[1:]).T\n",
    "    \n",
    "    # 결과를 반환합니다.\n",
    "    return result"
   ]
  },
  {
   "cell_type": "code",
   "execution_count": null,
   "id": "1041d553",
   "metadata": {},
   "outputs": [],
   "source": [
    "# 훈련셋의 입력변수별 분산팽창지수를 출력합니다.\n",
    "vif(X = X_trn)"
   ]
  },
  {
   "cell_type": "code",
   "execution_count": null,
   "id": "c9c7d682",
   "metadata": {},
   "outputs": [],
   "source": [
    "# 분산팽창지수가 5 이상인 입력변수 중 가장 큰 입력변수를 훈련셋에서 삭제합니다.\n",
    "X_trn = X_trn.drop(labels = ['주차대수'], axis = 1)"
   ]
  },
  {
   "cell_type": "code",
   "execution_count": null,
   "id": "9a797e1d",
   "metadata": {
    "scrolled": true
   },
   "outputs": [],
   "source": [
    "# 훈련셋의 일부를 출력합니다.\n",
    "X_trn.head()"
   ]
  },
  {
   "cell_type": "code",
   "execution_count": null,
   "id": "c09f04d8",
   "metadata": {},
   "outputs": [],
   "source": [
    "# 훈련셋의 입력변수별 분산팽창지수를 다시 출력합니다.\n",
    "vif(X = X_trn)"
   ]
  },
  {
   "cell_type": "code",
   "execution_count": null,
   "id": "4dd4d24e",
   "metadata": {},
   "outputs": [],
   "source": [
    "# 변경된 훈련셋으로 다중선형 회귀모형 적합 결과를 확인합니다.\n",
    "ols(y = y_trn, X = X_trn).summary()"
   ]
  },
  {
   "cell_type": "code",
   "execution_count": null,
   "id": "0e4412af",
   "metadata": {},
   "outputs": [],
   "source": [
    "# 회귀계수의 유의성 검정을 통과하지 못한 입력변수가 없습니다.\n",
    "# 최종모형을 fit1으로 생성합니다.\n",
    "fit1 = ols(y = y_trn, X = X_trn)"
   ]
  },
  {
   "cell_type": "markdown",
   "id": "9fe66253",
   "metadata": {},
   "source": [
    "#### 표준화 회귀계수 확인"
   ]
  },
  {
   "cell_type": "code",
   "execution_count": null,
   "id": "043e61de",
   "metadata": {},
   "outputs": [],
   "source": [
    "# 다중선형 회귀모형의 회귀계수만 출력합니다.\n",
    "fit1.params"
   ]
  },
  {
   "cell_type": "code",
   "execution_count": null,
   "id": "44406c73",
   "metadata": {},
   "outputs": [],
   "source": [
    "# 입력변수의 표준편차를 목표변수의 표준편차로 나눈 값을 출력합니다.\n",
    "X_trn.std() / y_trn.std()"
   ]
  },
  {
   "cell_type": "code",
   "execution_count": null,
   "id": "fc1bbef9",
   "metadata": {},
   "outputs": [],
   "source": [
    "# 표준화 회귀계수를 생성합니다.\n",
    "beta_z = fit1.params * (X_trn.std() / y_trn.std())"
   ]
  },
  {
   "cell_type": "code",
   "execution_count": null,
   "id": "ca8530a3",
   "metadata": {},
   "outputs": [],
   "source": [
    "# 표준화 회귀계수의 절대값을 오름차순으로 정렬하여 출력합니다.\n",
    "beta_z.abs().sort_values()"
   ]
  },
  {
   "cell_type": "markdown",
   "id": "674aab01",
   "metadata": {},
   "source": [
    "#### 목표변수의 추정값 생성"
   ]
  },
  {
   "cell_type": "code",
   "execution_count": null,
   "id": "914c9f90",
   "metadata": {},
   "outputs": [],
   "source": [
    "# 훈련셋에서 삭제했던 입력변수를 시험셋에서도 삭제합니다.\n",
    "X_tst = X_tst.drop(labels = ['주차대수'], axis = 1)"
   ]
  },
  {
   "cell_type": "code",
   "execution_count": null,
   "id": "770beecb",
   "metadata": {},
   "outputs": [],
   "source": [
    "# 시험셋에 상수항을 추가합니다.\n",
    "X_tst = sm.add_constant(data = X_tst)"
   ]
  },
  {
   "cell_type": "code",
   "execution_count": null,
   "id": "69dc22b4",
   "metadata": {},
   "outputs": [],
   "source": [
    "# 훈련셋과 시험셋으로 다중선형 회귀모형의 추정값을 생성합니다.\n",
    "y_trn_pred1 = fit1.predict(exog = X_trn)\n",
    "y_tst_pred1 = fit1.predict(exog = X_tst)"
   ]
  },
  {
   "cell_type": "markdown",
   "id": "230aef0e",
   "metadata": {},
   "source": [
    "#### 회귀모형 성능 평가 : MSE, RMSE, MAE, MAPE"
   ]
  },
  {
   "cell_type": "code",
   "execution_count": null,
   "id": "0b50e465",
   "metadata": {},
   "outputs": [],
   "source": [
    "# 라이브러리를 호출합니다.\n",
    "from sklearn.metrics import *"
   ]
  },
  {
   "cell_type": "code",
   "execution_count": null,
   "id": "4ef5c507",
   "metadata": {},
   "outputs": [],
   "source": [
    "# 훈련셋과 시험셋의 MSE를 비교합니다.\n",
    "print(mean_squared_error(y_true = y_trn, y_pred = y_trn_pred1).round(4))\n",
    "print(mean_squared_error(y_true = y_tst, y_pred = y_tst_pred1).round(4))"
   ]
  },
  {
   "cell_type": "code",
   "execution_count": null,
   "id": "671baeda",
   "metadata": {},
   "outputs": [],
   "source": [
    "# 훈련셋과 시험셋의 RMSE를 비교합니다.\n",
    "print((mean_squared_error(y_true = y_trn, y_pred = y_trn_pred1)**(1/2)).round(4))\n",
    "print((mean_squared_error(y_true = y_tst, y_pred = y_tst_pred1)**(1/2)).round(4))"
   ]
  },
  {
   "cell_type": "code",
   "execution_count": null,
   "id": "248ac4dd",
   "metadata": {},
   "outputs": [],
   "source": [
    "# 훈련셋과 시험셋의 MAE를 비교합니다.\n",
    "print(mean_absolute_error(y_true = y_trn, y_pred = y_trn_pred1).round(4))\n",
    "print(mean_absolute_error(y_true = y_tst, y_pred = y_tst_pred1).round(4))"
   ]
  },
  {
   "cell_type": "code",
   "execution_count": null,
   "id": "b709df16",
   "metadata": {},
   "outputs": [],
   "source": [
    "# 훈련셋과 시험셋의 MAPE를 비교합니다.\n",
    "print(mean_absolute_percentage_error(y_true = y_trn, y_pred = y_trn_pred1).round(4))\n",
    "print(mean_absolute_percentage_error(y_true = y_tst, y_pred = y_tst_pred1).round(4))"
   ]
  },
  {
   "cell_type": "markdown",
   "id": "97867ca3",
   "metadata": {},
   "source": [
    "### 회귀나무 : sklearn & graphviz 라이브러리"
   ]
  },
  {
   "cell_type": "markdown",
   "id": "843fd2cc",
   "metadata": {},
   "source": [
    "### graphviz 라이브러리\n",
    "\n",
    "* Python에서 의사결정나무모형을 시각화할 때 사용하는 라이브러리 입니다.\n",
    "\n",
    "\n",
    "* OS에 상관없이 **Jupyter 초기 화면에서 Terminal**을 열고 아래와 같이 설치하면 됩니다.\n",
    " - Python을 설치했다면 **pip install graphviz** 코드를 실행합니다.\n",
    " - Anaconda를 설치했다면 **conda install graphviz** 코드를 추가 실행합니다.\n",
    "\n",
    "\n",
    "* Windows 사용자는 아래 가이드를 따라서 추가 실행하시기 바랍니다. ([관련 블로그](https://kbj96.tistory.com/26)를 참고하세요.)\n",
    " - Anaconda에서 설치된 패키지 폴더를 덮어쓰기 해야 합니다.\n",
    "   - **C:/Users/User_ID/anaconda3/Library/bin/graphviz** 폴더를 복사합니다. (User_ID는 사용자 계정입니다!)\n",
    "   - **C:/Users/User_ID/anaconda3/Lib/site-packages** 폴더에 덮어씁니다.\n",
    "   \n",
    "   \n",
    " - [Graphviz](https://graphviz.org/download)에 접속하여 Windows용 exe 파일을 내려 받습니다.\n",
    "   - Windows 10 (64-bit): **stable_windows_10_cmake_Release_x64_graphviz-install-2.47.3-win64.exe**\n",
    "   - Windows 10 (32-bit): stable_windows_10_cmake_Release_Win32_graphviz-install-2.47.3-win32.exe\n",
    "   \n",
    "   \n",
    " - 내려받은 exe 파일을 설치합니다. 프로그램을 설치할 위치를 **C:/Program Files (x86)/Graphviz**로 변경합니다.\n",
    " \n",
    " \n",
    " - 제어판에서 **시스템 환경 변수 편집**을 열고, 환경변수에 Graphviz 경로를 추가합니다.\n",
    "   - Windows 화면 왼쪽 아래에 있는 돋보기 아이콘 검색창에서 **환경 변수**를 입력하면 쉽게 찾을 수 있습니다.\n",
    "   - 환경 변수는 **사용자 변수**와 **시스템 변수** 등 2가지가 있습니다.\n",
    "   \n",
    "   \n",
    " - **사용자 변수**의 **Path**를 선택하고 **편집** 버튼을 클릭하면 열리는 팝업 창의 오른쪽 **새로 만들기** 버튼을 클릭합니다.\n",
    "   - **C:/Program Files (x86)/Graphviz/bin**을 입력하고 **확인** 버튼을 클릭합니다.\n",
    "   \n",
    "   \n",
    " - **시스템 변수**의 **Path**를 선택하고 **편집** 버튼을 클릭하면 열리는 팝업 창의 오른쪽 **새로 만들기** 버튼을 클릭합니다.\n",
    "   - **C:/Users/User_ID/anaconda3/Lib/site-packages/graphviz**를 입력하고 **확인** 버튼을 클릭합니다."
   ]
  },
  {
   "cell_type": "code",
   "execution_count": null,
   "id": "basic-symposium",
   "metadata": {},
   "outputs": [],
   "source": [
    "# 라이브러리를 호출합니다.\n",
    "from sklearn.tree import DecisionTreeRegressor\n",
    "import os\n",
    "from sklearn.tree import export_graphviz\n",
    "import graphviz\n",
    "from IPython.display import Image"
   ]
  },
  {
   "cell_type": "raw",
   "id": "9e3f3ba6",
   "metadata": {},
   "source": [
    "# [Windows 사용자만!!!] graphviz 프로그램 경로를 추가합니다.\n",
    "os.environ['PATH'] += os.pathsep + 'C:/Program Files (x86)/Graphviz/bin'"
   ]
  },
  {
   "cell_type": "markdown",
   "id": "151dbc16",
   "metadata": {},
   "source": [
    "#### 실습 데이터셋 분할"
   ]
  },
  {
   "cell_type": "code",
   "execution_count": null,
   "id": "a844f029",
   "metadata": {},
   "outputs": [],
   "source": [
    "# 다중선형 회귀모형을 적합할 때, 일부 입력변수를 제거했으므로 실습 데이터셋 분할을 다시 실행합니다.\n",
    "# 전체 데이터의 70%를 훈련셋, 30%를 시험셋으로 분할합니다.\n",
    "X_trn, X_tst, y_trn, y_tst = train_test_split(X, y, test_size = 0.3, random_state = 1234)"
   ]
  },
  {
   "cell_type": "markdown",
   "id": "d5f52c25",
   "metadata": {},
   "source": [
    "#### 회귀나무모형 적합"
   ]
  },
  {
   "cell_type": "code",
   "execution_count": null,
   "id": "distinguished-ancient",
   "metadata": {},
   "outputs": [],
   "source": [
    "# 가지치기 전 회귀나무모형을 설정합니다.\n",
    "fit2 = DecisionTreeRegressor(\n",
    "    max_depth = 10,\n",
    "    min_samples_split = 20,\n",
    "    min_samples_leaf = 10,\n",
    "    random_state = 1234\n",
    ")"
   ]
  },
  {
   "cell_type": "code",
   "execution_count": null,
   "id": "civilian-bankruptcy",
   "metadata": {},
   "outputs": [],
   "source": [
    "# 가지치기 전 회귀나무모형을 적합합니다.\n",
    "fit2.fit(X = X_trn, y = y_trn)"
   ]
  },
  {
   "cell_type": "code",
   "execution_count": null,
   "id": "viral-hormone",
   "metadata": {},
   "outputs": [],
   "source": [
    "# 가지치기 전 회귀나무모형의 파라미터를 확인합니다.\n",
    "fit2.get_params()"
   ]
  },
  {
   "cell_type": "code",
   "execution_count": null,
   "id": "unlike-netscape",
   "metadata": {},
   "outputs": [],
   "source": [
    "# 가지치기 전 회귀나무모형의 끝마디 개수를 출력합니다.\n",
    "fit2.get_n_leaves()"
   ]
  },
  {
   "cell_type": "markdown",
   "id": "green-cooper",
   "metadata": {},
   "source": [
    "#### 회귀나무모형의 시각화"
   ]
  },
  {
   "cell_type": "code",
   "execution_count": null,
   "id": "c21b4760",
   "metadata": {},
   "outputs": [],
   "source": [
    "# 현재 작업경로를 확인합니다.\n",
    "os.getcwd()"
   ]
  },
  {
   "cell_type": "code",
   "execution_count": null,
   "id": "3f7910fc",
   "metadata": {},
   "outputs": [],
   "source": [
    "# 현재 작업경로의 상위 폴더에 image 폴더가 없으면 생성합니다.\n",
    "# image 폴더에 시각화 결과를 png 파일로 저장합니다.\n",
    "if 'image' not in os.listdir(path = '..'):\n",
    "    os.mkdir(path = '../image')"
   ]
  },
  {
   "cell_type": "code",
   "execution_count": null,
   "id": "guilty-letter",
   "metadata": {},
   "outputs": [],
   "source": [
    "# image 폴더로 작업경로를 변경합니다.\n",
    "os.chdir(path = '../image')"
   ]
  },
  {
   "cell_type": "code",
   "execution_count": null,
   "id": "excessive-elimination",
   "metadata": {},
   "outputs": [],
   "source": [
    "# dot 파일을 생성합니다.\n",
    "# filled = True : 노드의 채우기 색을 목표변수의 비중에 따라 다르게 설정합니다.\n",
    "# leaves_parallel = False : 끝마디를 맨 아래로 정렬하지 않습니다.\n",
    "# impurity = True : 노드에 분산(mse)을 출력합니다.\n",
    "export_graphviz(\n",
    "    decision_tree = fit2,\n",
    "    out_file = 'reg_tree2.dot',\n",
    "    feature_names = X_trn.columns,\n",
    "    filled = True,\n",
    "    leaves_parallel = False,\n",
    "    impurity = True,\n",
    ")"
   ]
  },
  {
   "cell_type": "code",
   "execution_count": null,
   "id": "premier-default",
   "metadata": {},
   "outputs": [],
   "source": [
    "# dot 파일을 읽습니다.\n",
    "dot_graph = open(file = 'reg_tree2.dot', mode = 'rt', encoding = 'UTF8').read()"
   ]
  },
  {
   "cell_type": "code",
   "execution_count": null,
   "id": "fe09e8e3",
   "metadata": {},
   "outputs": [],
   "source": [
    "# png 파일로 저장합니다.\n",
    "graph = graphviz.Source(source = dot_graph, format = 'png').render(filename = 'reg_tree2')"
   ]
  },
  {
   "cell_type": "code",
   "execution_count": null,
   "id": "entire-wallace",
   "metadata": {},
   "outputs": [],
   "source": [
    "# 작은 이미지로 출력합니다.\n",
    "Image(data = 'reg_tree2.png')"
   ]
  },
  {
   "cell_type": "markdown",
   "id": "genuine-howard",
   "metadata": {},
   "source": [
    "#### 변수의 중요도 시각화"
   ]
  },
  {
   "cell_type": "code",
   "execution_count": null,
   "id": "compressed-cyprus",
   "metadata": {},
   "outputs": [],
   "source": [
    "# 변수의 중요도를 시각화하는 함수를 정의합니다.\n",
    "def plot_feature_importance(model, column_names):\n",
    "    \n",
    "    # 변수의 중요도를 데이터프레임으로 생성합니다.\n",
    "    imp = pd.DataFrame(\n",
    "        data = model.feature_importances_.round(2), \n",
    "        index = column_names, \n",
    "        columns = ['Imp']\n",
    "    )\n",
    "    \n",
    "    # 변수의 중요도 기준으로 내림차순 정렬하고, 행이름을 초기화합니다.\n",
    "    imp = imp.sort_values(by = ['Imp'], ascending = False).reset_index()\n",
    "    \n",
    "    # 변수의 중요도로 가로 방향의 막대그래프를 그립니다.\n",
    "    sns.barplot(data = imp, x = 'Imp', y = 'index')\n",
    "    \n",
    "    # 막대그래프의 오른쪽 끝에 변수의 중요도를 텍스트로 추가합니다.\n",
    "    for index, row in imp.iterrows():\n",
    "        plt.text(x = row['Imp']+0.01, y = index, s = row['Imp'], \n",
    "                 ha = 'left', va = 'center', fontsize = 11)\n",
    "    \n",
    "    # x축의 범위를 제한합니다.\n",
    "    plt.xlim(0, imp['Imp'].max()*1.1)\n",
    "    \n",
    "    # 막대그래프의 제목, x축명 및 y축명을 설정합니다.\n",
    "    plt.title(label = '입력변수의 중요도')\n",
    "    plt.xlabel(xlabel = 'Feature Importances')\n",
    "    plt.ylabel(ylabel = 'Feature');"
   ]
  },
  {
   "cell_type": "code",
   "execution_count": null,
   "id": "necessary-american",
   "metadata": {},
   "outputs": [],
   "source": [
    "# 변수의 중요도를 시각화합니다.\n",
    "plot_feature_importance(model = fit2, column_names = X_trn.columns)"
   ]
  },
  {
   "cell_type": "markdown",
   "id": "outstanding-rubber",
   "metadata": {},
   "source": [
    "#### 회귀모형 성능 평가 : MSE, RMSE, MAE, MAPE"
   ]
  },
  {
   "cell_type": "code",
   "execution_count": null,
   "id": "artistic-instrument",
   "metadata": {},
   "outputs": [],
   "source": [
    "# 훈련셋과 시험셋으로 가지치기 전 회귀나무모형의 추정값을 생성합니다.\n",
    "y_trn_pred2 = fit2.predict(X = X_trn)\n",
    "y_tst_pred2 = fit2.predict(X = X_tst)"
   ]
  },
  {
   "cell_type": "code",
   "execution_count": null,
   "id": "ranking-awareness",
   "metadata": {
    "scrolled": true
   },
   "outputs": [],
   "source": [
    "# 훈련셋과 시험셋의 MSE를 비교합니다.\n",
    "print(mean_squared_error(y_true = y_trn, y_pred = y_trn_pred2).round(4))\n",
    "print(mean_squared_error(y_true = y_tst, y_pred = y_tst_pred2).round(4))"
   ]
  },
  {
   "cell_type": "code",
   "execution_count": null,
   "id": "welsh-secondary",
   "metadata": {
    "scrolled": true
   },
   "outputs": [],
   "source": [
    "# 훈련셋과 시험셋의 RMSE를 비교합니다.\n",
    "print((mean_squared_error(y_true = y_trn, y_pred = y_trn_pred2)**(1/2)).round(4))\n",
    "print((mean_squared_error(y_true = y_tst, y_pred = y_tst_pred2)**(1/2)).round(4))"
   ]
  },
  {
   "cell_type": "code",
   "execution_count": null,
   "id": "purple-antique",
   "metadata": {},
   "outputs": [],
   "source": [
    "# 훈련셋과 시험셋의 MAE를 비교합니다.\n",
    "print(mean_absolute_error(y_true = y_trn, y_pred = y_trn_pred2).round(4))\n",
    "print(mean_absolute_error(y_true = y_tst, y_pred = y_tst_pred2).round(4))"
   ]
  },
  {
   "cell_type": "code",
   "execution_count": null,
   "id": "entire-bernard",
   "metadata": {},
   "outputs": [],
   "source": [
    "# 훈련셋과 시험셋의 MAPE를 비교합니다.\n",
    "print(mean_absolute_percentage_error(y_true = y_trn, y_pred = y_trn_pred2).round(4))\n",
    "print(mean_absolute_percentage_error(y_true = y_tst, y_pred = y_tst_pred2).round(4))"
   ]
  },
  {
   "cell_type": "markdown",
   "id": "frequent-fitting",
   "metadata": {},
   "source": [
    "#### 사후 가지치기"
   ]
  },
  {
   "cell_type": "code",
   "execution_count": null,
   "id": "material-formation",
   "metadata": {},
   "outputs": [],
   "source": [
    "# 회귀나무모형에 대해 사후 가지치기 필요 여부를 확인합니다.\n",
    "prune = fit2.cost_complexity_pruning_path(X = X_trn, y = y_trn)"
   ]
  },
  {
   "cell_type": "code",
   "execution_count": null,
   "id": "5b8fd99b",
   "metadata": {
    "scrolled": true
   },
   "outputs": [],
   "source": [
    "# prune을 출력합니다.\n",
    "# prune은 비용 복잡도 파라미터(ccp_alphas)와 대응하는 순수도(impurities)를 갖습니다.\n",
    "prune"
   ]
  },
  {
   "cell_type": "code",
   "execution_count": null,
   "id": "insured-darkness",
   "metadata": {},
   "outputs": [],
   "source": [
    "# 비용 복잡도 파라미터만 따로 선택합니다.\n",
    "alphas = prune.ccp_alphas"
   ]
  },
  {
   "cell_type": "code",
   "execution_count": null,
   "id": "architectural-publisher",
   "metadata": {},
   "outputs": [],
   "source": [
    "# 비용 복잡도 파라미터에 따라 회귀나무모형을 적합하고, 리스트로 저장합니다.\n",
    "trees = []\n",
    "for alpha in alphas:\n",
    "    tree = DecisionTreeRegressor(\n",
    "        max_depth = 10,\n",
    "        min_samples_split = 20,\n",
    "        min_samples_leaf = 10,\n",
    "        random_state = 1234, \n",
    "        ccp_alpha = alpha\n",
    "    )\n",
    "    tree.fit(X = X_trn, y = y_trn)\n",
    "    trees.append(tree)"
   ]
  },
  {
   "cell_type": "code",
   "execution_count": null,
   "id": "a58899d4",
   "metadata": {},
   "outputs": [],
   "source": [
    "# 시험셋으로 개별 회귀나무모형의 정확도(accuracy)를 계산하고, 리스트로 저장합니다.\n",
    "tst_score = [tree.score(X = X_tst, y = y_tst) for tree in trees]"
   ]
  },
  {
   "cell_type": "code",
   "execution_count": null,
   "id": "eligible-letter",
   "metadata": {},
   "outputs": [],
   "source": [
    "# 사후 가지치기를 시각화하는 함수를 정의합니다.\n",
    "def plot_ccp(alphas, score):\n",
    "    \n",
    "    # 비용 복잡도 파라미터와 시험셋의 정확도로 데이터프레임을 생성합니다.\n",
    "    tst_error = pd.DataFrame({'alphas': alphas, 'score': score})\n",
    "    \n",
    "    # 선그래프를 그립니다.\n",
    "    sns.pointplot(data = tst_error, x = 'alphas', y = 'score', scale = 0.5)\n",
    "    \n",
    "    # 그래프 제목과 x축명을 설정합니다.\n",
    "    plt.title(label = '비용 복잡도 파라미터에 따른 시험셋의 성능 변화')\n",
    "    plt.xlabel(xlabel = '비용 복잡도 파라미터')\n",
    "    \n",
    "    # x축 눈금을 30도 회전시킵니다.\n",
    "    plt.xticks(rotation = 30);"
   ]
  },
  {
   "cell_type": "code",
   "execution_count": null,
   "id": "sonic-treasury",
   "metadata": {},
   "outputs": [],
   "source": [
    "# 비용 복잡도 파라미터에 대응하는 시험셋의 정확도를 선그래프로 그립니다.\n",
    "plot_ccp(alphas = alphas.round(0), score = tst_score)"
   ]
  },
  {
   "cell_type": "code",
   "execution_count": null,
   "id": "alpine-favor",
   "metadata": {},
   "outputs": [],
   "source": [
    "# 시험셋의 정확도가 가장 높은 비용 복잡도 파라미터 값을 확인합니다.\n",
    "alpha = alphas[tst_score == max(tst_score)]\n",
    "print(alpha)"
   ]
  },
  {
   "cell_type": "code",
   "execution_count": null,
   "id": "level-joint",
   "metadata": {},
   "outputs": [],
   "source": [
    "# 가지치기 후 회귀나무모형을 설정합니다.\n",
    "# [참고] 알파가 여러 개일 때 최대값을 선택하여, 끝마디 개수를 최소화합니다.\n",
    "fit3 = DecisionTreeRegressor(\n",
    "    max_depth = 10,\n",
    "    min_samples_split = 20,\n",
    "    min_samples_leaf = 10,\n",
    "    random_state = 1234, \n",
    "    ccp_alpha = alpha.max()\n",
    ")"
   ]
  },
  {
   "cell_type": "code",
   "execution_count": null,
   "id": "soviet-calvin",
   "metadata": {},
   "outputs": [],
   "source": [
    "# 가지치기 후 회귀나무모형을 적합합니다.\n",
    "fit3.fit(X = X_trn, y = y_trn)"
   ]
  },
  {
   "cell_type": "code",
   "execution_count": null,
   "id": "fixed-snowboard",
   "metadata": {},
   "outputs": [],
   "source": [
    "# 가지치기 후 회귀나무모형의 파라미터를 확인합니다.\n",
    "fit3.get_params()"
   ]
  },
  {
   "cell_type": "code",
   "execution_count": null,
   "id": "arranged-laugh",
   "metadata": {},
   "outputs": [],
   "source": [
    "# 가지치기 후 회귀나무모형의 끝마디 개수를 출력합니다.\n",
    "fit3.get_n_leaves()"
   ]
  },
  {
   "cell_type": "code",
   "execution_count": null,
   "id": "devoted-houston",
   "metadata": {},
   "outputs": [],
   "source": [
    "# 가지치기 후 회귀나무모형을 시각화합니다.\n",
    "export_graphviz(\n",
    "    decision_tree = fit3,\n",
    "    out_file = 'reg_tree3.dot',\n",
    "    feature_names = X_trn.columns,\n",
    "    filled = True,\n",
    "    leaves_parallel = False,\n",
    "    impurity = True,\n",
    ")"
   ]
  },
  {
   "cell_type": "code",
   "execution_count": null,
   "id": "6b01045e",
   "metadata": {},
   "outputs": [],
   "source": [
    "# dot 파일을 읽습니다.\n",
    "dot_graph = open(file = 'reg_tree3.dot', mode = 'rt', encoding = 'UTF8').read()"
   ]
  },
  {
   "cell_type": "code",
   "execution_count": null,
   "id": "7be21e0e",
   "metadata": {},
   "outputs": [],
   "source": [
    "# png 파일로 저장합니다.\n",
    "graph = graphviz.Source(source = dot_graph, format = 'png').render(filename = 'reg_tree3')"
   ]
  },
  {
   "cell_type": "code",
   "execution_count": null,
   "id": "17208463",
   "metadata": {
    "scrolled": true
   },
   "outputs": [],
   "source": [
    "# 작은 이미지로 출력합니다.\n",
    "Image(data = 'reg_tree3.png')"
   ]
  },
  {
   "cell_type": "code",
   "execution_count": null,
   "id": "sought-coral",
   "metadata": {},
   "outputs": [],
   "source": [
    "# 변수의 중요도를 출력합니다.\n",
    "plot_feature_importance(model = fit3, column_names = X_trn.columns)"
   ]
  },
  {
   "cell_type": "code",
   "execution_count": null,
   "id": "social-jordan",
   "metadata": {},
   "outputs": [],
   "source": [
    "# 시험셋으로 가지치기 후 회귀나무모형의 추정값을 생성합니다.\n",
    "y_tst_pred3 = fit3.predict(X = X_tst)"
   ]
  },
  {
   "cell_type": "code",
   "execution_count": null,
   "id": "civilian-spray",
   "metadata": {
    "scrolled": true
   },
   "outputs": [],
   "source": [
    "# 가지치기 전후 회귀나무모형의 RMSE를 비교합니다.\n",
    "print((mean_squared_error(y_true = y_tst, y_pred = y_tst_pred2)**(1/2)).round(4))\n",
    "print((mean_squared_error(y_true = y_tst, y_pred = y_tst_pred3)**(1/2)).round(4))"
   ]
  },
  {
   "cell_type": "code",
   "execution_count": null,
   "id": "1c91298b",
   "metadata": {},
   "outputs": [],
   "source": [
    "# 가지치기 전후 회귀나무모형의 MAPE를 비교합니다.\n",
    "print(mean_absolute_percentage_error(y_true = y_tst, y_pred = y_tst_pred2).round(4))\n",
    "print(mean_absolute_percentage_error(y_true = y_tst, y_pred = y_tst_pred2).round(4))"
   ]
  },
  {
   "cell_type": "markdown",
   "id": "33a2aaf1",
   "metadata": {},
   "source": [
    "<p style=\"font-family:verdana;font-size:200%;text-align:center;\">End of Document</p>"
   ]
  }
 ],
 "metadata": {
  "kernelspec": {
   "display_name": "Python 3 (ipykernel)",
   "language": "python",
   "name": "python3"
  },
  "language_info": {
   "codemirror_mode": {
    "name": "ipython",
    "version": 3
   },
   "file_extension": ".py",
   "mimetype": "text/x-python",
   "name": "python",
   "nbconvert_exporter": "python",
   "pygments_lexer": "ipython3",
   "version": "3.9.6"
  },
  "varInspector": {
   "cols": {
    "lenName": 16,
    "lenType": 16,
    "lenVar": 40
   },
   "kernels_config": {
    "python": {
     "delete_cmd_postfix": "",
     "delete_cmd_prefix": "del ",
     "library": "var_list.py",
     "varRefreshCmd": "print(var_dic_list())"
    },
    "r": {
     "delete_cmd_postfix": ") ",
     "delete_cmd_prefix": "rm(",
     "library": "var_list.r",
     "varRefreshCmd": "cat(var_dic_list()) "
    }
   },
   "types_to_exclude": [
    "module",
    "function",
    "builtin_function_or_method",
    "instance",
    "_Feature"
   ],
   "window_display": false
  }
 },
 "nbformat": 4,
 "nbformat_minor": 5
}
