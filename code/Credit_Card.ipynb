{
 "cells": [
  {
   "cell_type": "markdown",
   "id": "320e9da8",
   "metadata": {},
   "source": [
    "<p style=\"font-family:verdana;font-size:200%;text-align:center;\">신용카드 데이터 분석</p>"
   ]
  },
  {
   "cell_type": "markdown",
   "id": "267f2267",
   "metadata": {},
   "source": [
    "### 부제 : Python을 활용한 탐색적 데이터 분석"
   ]
  },
  {
   "cell_type": "markdown",
   "id": "b8f41f7a",
   "metadata": {},
   "source": [
    "### 이번 시간 강의 내용\n",
    "\n",
    "1. 실습 데이터셋 준비 : **chardet** & **pandas** 라이브러리\n",
    "1. 탐색적 데이터 분석\n",
    "1. 데이터 시각화 : **seaborn** & **matplotlib** 라이브러리\n",
    "1. 지도 시각화 : **folium** 라이브러리"
   ]
  },
  {
   "cell_type": "markdown",
   "id": "36612e02",
   "metadata": {},
   "source": [
    "### 강의자료 준비\n",
    "\n",
    "* 작업경로로 사용할 폴더를 생성합니다.\n",
    " - 문서(Documents) 폴더에 **BC_Korea**라는 폴더를 생성합니다.\n",
    " - Windows : 'C:/Users/User_name/Documents/BC_Korea'\n",
    " - MacOS : '/Users/User_name/Documents/BC_Korea'\n",
    "\n",
    "\n",
    "* 이번 강의에 사용될 [코드 및 데이터](https://codeload.github.com/MrKevinNa/BC_Korea/zip/refs/heads/main)를 압축파일로 내려받습니다.\n",
    " - 일반적으로 압축파일은 다운로드(Downloads) 폴더에 저장되어 있습니다.\n",
    " - 압축파일에는 **code** 및 **data** 폴더가 포함되어 있습니다.\n",
    " - 압축파일을 풀고 **code** 및 **data** 폴더를 작업경로인 **BC_Korea** 폴더로 옮깁니다.\n",
    "\n",
    "\n",
    "* [BC카드 금융 빅데이터 플랫폼](https://www.bigdata-finance.kr)에서 내려받은 데이터를 **data** 폴더로 옮깁니다.\n",
    " - 데이터를 내려받는 방법은 사전에 이메일로 발송되었습니다."
   ]
  },
  {
   "cell_type": "markdown",
   "id": "ff750994",
   "metadata": {},
   "source": [
    "### 실습 데이터셋 준비 : chardet & pandas 라이브러리"
   ]
  },
  {
   "cell_type": "code",
   "execution_count": null,
   "id": "0c85163f",
   "metadata": {},
   "outputs": [],
   "source": [
    "# 라이브러리를 호출합니다.\n",
    "import os, chardet\n",
    "import numpy as np\n",
    "import pandas as pd"
   ]
  },
  {
   "cell_type": "code",
   "execution_count": null,
   "id": "2ff3a754",
   "metadata": {},
   "outputs": [],
   "source": [
    "# 현재 작업경로를 확인합니다.\n",
    "os.getcwd()"
   ]
  },
  {
   "cell_type": "code",
   "execution_count": null,
   "id": "a3a79b3a",
   "metadata": {},
   "outputs": [],
   "source": [
    "# data 폴더로 작업경로를 변경합니다. (상대경로 사용)\n",
    "os.chdir(path = '../data')"
   ]
  },
  {
   "cell_type": "code",
   "execution_count": null,
   "id": "498ce179",
   "metadata": {},
   "outputs": [],
   "source": [
    "# 작업경로에 포함된 폴더명과 파일명을 출력합니다.\n",
    "os.listdir()"
   ]
  },
  {
   "cell_type": "code",
   "execution_count": null,
   "id": "b4b38d8c",
   "metadata": {},
   "outputs": [],
   "source": [
    "# 신용카드 데이터 파일명을 지정합니다.\n",
    "fileName = '20210709112650186교육용_데이터_수정(강남구).csv'"
   ]
  },
  {
   "cell_type": "code",
   "execution_count": null,
   "id": "8f98920e",
   "metadata": {},
   "outputs": [],
   "source": [
    "# 신용카드 데이터 파일을 바이너리로 읽고, raw를 생성합니다.\n",
    "raw = open(file = fileName, mode = 'rb').read()"
   ]
  },
  {
   "cell_type": "code",
   "execution_count": null,
   "id": "a7c10585",
   "metadata": {},
   "outputs": [],
   "source": [
    "# raw의 클래스를 확인합니다.\n",
    "type(raw)"
   ]
  },
  {
   "cell_type": "code",
   "execution_count": null,
   "id": "a9096f9b",
   "metadata": {},
   "outputs": [],
   "source": [
    "# raw의 일부를 출력합니다.\n",
    "raw[:100]"
   ]
  },
  {
   "cell_type": "code",
   "execution_count": null,
   "id": "bb0a10df",
   "metadata": {},
   "outputs": [],
   "source": [
    "# raw의 인코딩 방식을 확인합니다.\n",
    "chardet.detect(raw[:100])"
   ]
  },
  {
   "cell_type": "code",
   "execution_count": null,
   "id": "0fb180b9",
   "metadata": {},
   "outputs": [],
   "source": [
    "# raw를 디코딩하면 한글로 출력됩니다.\n",
    "raw[:100].decode(encoding = 'EUC-KR')"
   ]
  },
  {
   "cell_type": "code",
   "execution_count": null,
   "id": "83288d8a",
   "metadata": {},
   "outputs": [],
   "source": [
    "# 신용카드 데이터를 읽고, 데이터프레임 df를 생성합니다.\n",
    "df = pd.read_csv(filepath_or_buffer = fileName, encoding = 'EUC-KR')"
   ]
  },
  {
   "cell_type": "code",
   "execution_count": null,
   "id": "96d24a96",
   "metadata": {},
   "outputs": [],
   "source": [
    "# df의 일부를 출력합니다. n 매개변수에 전달되는 인자의 기본값은 5입니다.\n",
    "df.head(n = 10)"
   ]
  },
  {
   "cell_type": "code",
   "execution_count": null,
   "id": "5deb1c91",
   "metadata": {},
   "outputs": [],
   "source": [
    "# df의 정보를 확인합니다.\n",
    "# 행 길이, 열 길이, 열별 결측값 아닌 개수 및 자료형(data type)을 확인합니다.\n",
    "df.info()"
   ]
  },
  {
   "cell_type": "code",
   "execution_count": null,
   "id": "83a518a0",
   "metadata": {},
   "outputs": [],
   "source": [
    "# 기준일자를 날짜형으로 변환합니다.\n",
    "df['기준일자'] = df['기준일자'].astype('str').astype('datetime64')"
   ]
  },
  {
   "cell_type": "code",
   "execution_count": null,
   "id": "45c4d8d7",
   "metadata": {},
   "outputs": [],
   "source": [
    "# df의 열별 자료형을 확인합니다.\n",
    "df.dtypes"
   ]
  },
  {
   "cell_type": "code",
   "execution_count": null,
   "id": "4bab6538",
   "metadata": {},
   "outputs": [],
   "source": [
    "# 텍스트 데이터를 읽을 때, 날짜형으로 읽을 변수명을 지정할 수 있습니다.\n",
    "df = pd.read_csv(filepath_or_buffer = fileName, encoding = 'EUC-KR', parse_dates = ['기준일자'])"
   ]
  },
  {
   "cell_type": "code",
   "execution_count": null,
   "id": "5b8afaec",
   "metadata": {},
   "outputs": [],
   "source": [
    "# df의 정보를 확인합니다.\n",
    "df.info()"
   ]
  },
  {
   "cell_type": "code",
   "execution_count": null,
   "id": "6404b67b",
   "metadata": {},
   "outputs": [],
   "source": [
    "# 불필요한 열을 삭제합니다.\n",
    "df = df.drop(labels = ['가맹점주소_광역시도', '가맹점주소_시군구', '매출건수'], axis = 1)"
   ]
  },
  {
   "cell_type": "code",
   "execution_count": null,
   "id": "ada0f4d3",
   "metadata": {},
   "outputs": [],
   "source": [
    "# 일부 열이름을 변경합니다.\n",
    "df = df.rename(columns = {'가맹점주소_읍면동': '읍면동', '가맹점업종': '업종명', '결제고객수': '고객수', '매출금액': '매출액'})"
   ]
  },
  {
   "cell_type": "code",
   "execution_count": null,
   "id": "7b31256e",
   "metadata": {},
   "outputs": [],
   "source": [
    "# 기준일자별 빈도수를 확인합니다.\n",
    "df['기준일자'].value_counts().sort_index().reset_index()"
   ]
  },
  {
   "cell_type": "code",
   "execution_count": null,
   "id": "9dfd330f",
   "metadata": {},
   "outputs": [],
   "source": [
    "# 기준일자에서 년, 월, 일 및 요일을 추출합니다.\n",
    "df['년'] = df['기준일자'].dt.year\n",
    "df['월'] = df['기준일자'].dt.month\n",
    "df['일'] = df['기준일자'].dt.day\n",
    "df['요일정수'] = df['기준일자'].dt.dayofweek.astype('str')\n",
    "df['요일'] = df['기준일자'].dt.day_name()"
   ]
  },
  {
   "cell_type": "code",
   "execution_count": null,
   "id": "72f53da4",
   "metadata": {},
   "outputs": [],
   "source": [
    "# df의 일부를 출력합니다.\n",
    "df.head()"
   ]
  },
  {
   "cell_type": "markdown",
   "id": "1c85505f",
   "metadata": {},
   "source": [
    "- 거래요일이 영문으로 생성되었습니다. \n",
    "- 이는 로케일 문제이므로 한글 로케일로 변경하고 변수를 다시 생성해야 합니다."
   ]
  },
  {
   "cell_type": "code",
   "execution_count": null,
   "id": "8d616a08",
   "metadata": {},
   "outputs": [],
   "source": [
    "# 라이브러리를 호출합니다.\n",
    "import locale"
   ]
  },
  {
   "cell_type": "code",
   "execution_count": null,
   "id": "0d53419c",
   "metadata": {},
   "outputs": [],
   "source": [
    "# 현재 설정된 날짜/시간 로케일을 확인합니다.\n",
    "locale.getlocale(category = locale.LC_TIME)"
   ]
  },
  {
   "cell_type": "code",
   "execution_count": null,
   "id": "f1b5d333",
   "metadata": {},
   "outputs": [],
   "source": [
    "# 날짜/시간 로케일을 '한국'으로 변경합니다.\n",
    "# MacOS는 'ko_KR', Windows는 'korean'으로 지정하세요.\n",
    "locale.setlocale(category = locale.LC_TIME, locale = 'ko_KR')"
   ]
  },
  {
   "cell_type": "code",
   "execution_count": null,
   "id": "bf21bd1e",
   "metadata": {},
   "outputs": [],
   "source": [
    "# 기준일자에서 한글 요일을 추출합니다. '%A'는 '요일'에 해당하는 포맷입니다.\n",
    "df['요일'] = df['기준일자'].dt.strftime('%A')"
   ]
  },
  {
   "cell_type": "code",
   "execution_count": null,
   "id": "cd01ac34",
   "metadata": {},
   "outputs": [],
   "source": [
    "# df의 일부를 출력합니다.\n",
    "df.head()"
   ]
  },
  {
   "cell_type": "code",
   "execution_count": null,
   "id": "2f045086",
   "metadata": {},
   "outputs": [],
   "source": [
    "# 요일정수와 요일을 하나의 문자열로 결합하고, 요일정수를 삭제합니다.\n",
    "cols = ['요일정수', '요일']\n",
    "df['요일'] = df[cols].apply(lambda x: '-'.join(x), axis = 1)\n",
    "df = df.drop(labels = ['요일정수'], axis = 1)"
   ]
  },
  {
   "cell_type": "code",
   "execution_count": null,
   "id": "b1d0272a",
   "metadata": {},
   "outputs": [],
   "source": [
    "# df의 일부를 출력합니다.\n",
    "df.head()"
   ]
  },
  {
   "cell_type": "markdown",
   "id": "57417f02",
   "metadata": {},
   "source": [
    "### 탐색적 데이터 분석\n",
    "\n",
    "- 명목형 변수(열)별 빈도수 확인 : 연령대, 성별, 가구생애주기\n",
    "\n",
    "- 코로나 관련 업종별 이용 현황 : 피벗 테이블로 요약 데이터 생성\n",
    " - 코로나 전후(2019년, 2020년) 업종별 고객수 및 매출액 증감률 확인\n",
    " - 코로나 이후(2020년, 2021년) 업종별 고객수 및 매출액 증감률 확인\n",
    " - 2021년 고객수 및 매출액 합계 상위 업종 확인"
   ]
  },
  {
   "cell_type": "code",
   "execution_count": null,
   "id": "7d3196c6",
   "metadata": {},
   "outputs": [],
   "source": [
    "# 지수표현식으로 출력되지 않도록 하는 설정합니다.\n",
    "# [참고] 모든 실수가 소수점 넷째 자리까지 출력되므로 불편할 수 있습니다.\n",
    "# pd.options.display.float_format = '{:.4f}'.format\n",
    "\n",
    "# 숫자형 변수(열)의 기술통계량을 출력합니다.\n",
    "df.describe().round(2)"
   ]
  },
  {
   "cell_type": "code",
   "execution_count": null,
   "id": "0f88ce00",
   "metadata": {},
   "outputs": [],
   "source": [
    "# 문자형 변수(열)의 기술통계량을 출력합니다.\n",
    "df.describe(include = 'object')"
   ]
  },
  {
   "cell_type": "code",
   "execution_count": null,
   "id": "a1cc9d51",
   "metadata": {},
   "outputs": [],
   "source": [
    "# 연령대별 빈도수를 확인합니다.\n",
    "df['연령대'].value_counts().sort_index().reset_index()"
   ]
  },
  {
   "cell_type": "code",
   "execution_count": null,
   "id": "04360d5b",
   "metadata": {},
   "outputs": [],
   "source": [
    "# 작업의 편의를 위해 '20대미만'을 '10대', '60대이상'을 '60대'로 변경합니다.\n",
    "df.loc[df['연령대'] == '20대미만', '연령대'] = '10대'\n",
    "df.loc[df['연령대'] == '60대이상', '연령대'] = '60대'"
   ]
  },
  {
   "cell_type": "code",
   "execution_count": null,
   "id": "4722f443",
   "metadata": {},
   "outputs": [],
   "source": [
    "# 연령대별 빈도수를 다시 확인합니다.\n",
    "df['연령대'].value_counts().sort_index().reset_index()"
   ]
  },
  {
   "cell_type": "code",
   "execution_count": null,
   "id": "80f07b48",
   "metadata": {},
   "outputs": [],
   "source": [
    "# 성별 빈도수를 확인합니다.\n",
    "df['성별'].value_counts().sort_index().reset_index()"
   ]
  },
  {
   "cell_type": "code",
   "execution_count": null,
   "id": "f838e536",
   "metadata": {},
   "outputs": [],
   "source": [
    "# 가구생애주기별 빈도수를 확인합니다.\n",
    "df['가구생애주기'].value_counts().sort_index().reset_index()"
   ]
  },
  {
   "cell_type": "code",
   "execution_count": null,
   "id": "201a467d",
   "metadata": {},
   "outputs": [],
   "source": [
    "# 가구생애주기에서 '기타'를 제거합니다.\n",
    "df = df.loc[df['가구생애주기'] != '기타']"
   ]
  },
  {
   "cell_type": "code",
   "execution_count": null,
   "id": "d34ab3b6",
   "metadata": {},
   "outputs": [],
   "source": [
    "# 가구생애주기에서 문자열 ' 가구'를 제거합니다. \n",
    "df['가구생애주기'] = df['가구생애주기'].str.replace(' 가구', '')"
   ]
  },
  {
   "cell_type": "code",
   "execution_count": null,
   "id": "ea6f3ed5",
   "metadata": {},
   "outputs": [],
   "source": [
    "# 가구생애주기별 빈도수를 다시 확인합니다.\n",
    "df['가구생애주기'].value_counts().sort_index().reset_index()"
   ]
  },
  {
   "cell_type": "code",
   "execution_count": null,
   "id": "448733cd",
   "metadata": {
    "scrolled": true
   },
   "outputs": [],
   "source": [
    "# 업종별 증감률 확인을 위한 피벗 테이블을 생성합니다.\n",
    "df1 = pd.pivot_table(\n",
    "    data = df, \n",
    "    values = ['매출액', '고객수'], \n",
    "    index = '업종명', \n",
    "    columns = '년', \n",
    "    aggfunc = 'sum', \n",
    "    fill_value = 0\n",
    ")"
   ]
  },
  {
   "cell_type": "code",
   "execution_count": null,
   "id": "021b9b8b",
   "metadata": {
    "scrolled": true
   },
   "outputs": [],
   "source": [
    "# df1의 일부를 출력합니다.\n",
    "df1.head()"
   ]
  },
  {
   "cell_type": "code",
   "execution_count": null,
   "id": "a002e847",
   "metadata": {},
   "outputs": [],
   "source": [
    "# 열이름만 출력합니다.\n",
    "df1.columns"
   ]
  },
  {
   "cell_type": "code",
   "execution_count": null,
   "id": "ee8ded9c",
   "metadata": {},
   "outputs": [],
   "source": [
    "# 열이름의 name이 '년'인 행을 삭제한 결과를 출력합니다.\n",
    "# level = 1(두 번째 행)을 지정한 것과 같습니다.\n",
    "df1.columns.droplevel('년')"
   ]
  },
  {
   "cell_type": "code",
   "execution_count": null,
   "id": "8b1a61f4",
   "metadata": {},
   "outputs": [],
   "source": [
    "# 열이름의 name이 None인 행을 삭제한 결과를 출력합니다.\n",
    "# level = 0(첫 번째 행)을 지정한 것과 같습니다.\n",
    "df1.columns.droplevel(None)"
   ]
  },
  {
   "cell_type": "code",
   "execution_count": null,
   "id": "69e92518",
   "metadata": {},
   "outputs": [],
   "source": [
    "# 열이름을 결합한 결과를 출력합니다.\n",
    "# [참고] 열이름의 name이 '년'인 행은 정수이므로 문자열로 변환해야 합니다.\n",
    "df1.columns.droplevel('년') + df1.columns.droplevel(None).astype('str')"
   ]
  },
  {
   "cell_type": "code",
   "execution_count": null,
   "id": "870a537f",
   "metadata": {},
   "outputs": [],
   "source": [
    "# df1의 열이름을 변경합니다.\n",
    "df1.columns = df1.columns.droplevel('년') + df1.columns.droplevel(None).astype('str')"
   ]
  },
  {
   "cell_type": "code",
   "execution_count": null,
   "id": "9b5886ab",
   "metadata": {
    "scrolled": true
   },
   "outputs": [],
   "source": [
    "# df1의 행이름을 초기화합니다.\n",
    "df1 = df1.reset_index()"
   ]
  },
  {
   "cell_type": "code",
   "execution_count": null,
   "id": "db11072f",
   "metadata": {},
   "outputs": [],
   "source": [
    "# df1의 일부를 출력합니다.\n",
    "df1.head()"
   ]
  },
  {
   "cell_type": "code",
   "execution_count": null,
   "id": "5a6457e5",
   "metadata": {},
   "outputs": [],
   "source": [
    "# 전년비 증감률 변수를 생성합니다.\n",
    "df1['고객증감률2020'] = ((df1['고객수2020'] - df1['고객수2019']) / df1['고객수2019']).round(4) * 100\n",
    "df1['매출증감률2020'] = ((df1['매출액2020'] - df1['매출액2019']) / df1['매출액2019']).round(4) * 100\n",
    "\n",
    "df1['고객증감률2021'] = ((df1['고객수2021'] - df1['고객수2020']) / df1['고객수2020']).round(4) * 100\n",
    "df1['매출증감률2021'] = ((df1['매출액2021'] - df1['매출액2020']) / df1['매출액2020']).round(4) * 100"
   ]
  },
  {
   "cell_type": "code",
   "execution_count": null,
   "id": "1a20fb24",
   "metadata": {
    "scrolled": true
   },
   "outputs": [],
   "source": [
    "# df1의 일부를 출력합니다.\n",
    "df1.head()"
   ]
  },
  {
   "cell_type": "markdown",
   "id": "45a6b05d",
   "metadata": {},
   "source": [
    "#### 코로나 이전(2019년) 대비 이후(2020년) 업종별 변동 확인"
   ]
  },
  {
   "cell_type": "code",
   "execution_count": null,
   "id": "c64a3970",
   "metadata": {},
   "outputs": [],
   "source": [
    "# 고객수가 감소한 상위 다섯 개 업종을 확인합니다.\n",
    "df1.sort_values(by = ['고객증감률2020']).head()"
   ]
  },
  {
   "cell_type": "code",
   "execution_count": null,
   "id": "440b5264",
   "metadata": {},
   "outputs": [],
   "source": [
    "# 매출액이 감소한 상위 다섯 개 업종을 확인합니다.\n",
    "df1.sort_values(by = ['매출증감률2020']).head()"
   ]
  },
  {
   "cell_type": "code",
   "execution_count": null,
   "id": "17c265d8",
   "metadata": {},
   "outputs": [],
   "source": [
    "# 고객수가 증가한 상위 다섯 개 업종을 확인합니다.\n",
    "df1.sort_values(by = ['고객증감률2020'], ascending = False).head()"
   ]
  },
  {
   "cell_type": "code",
   "execution_count": null,
   "id": "00c4b22a",
   "metadata": {},
   "outputs": [],
   "source": [
    "# 매출액이 증가한 상위 다섯 개 업종을 확인합니다.\n",
    "df1.sort_values(by = ['매출증감률2020'], ascending = False).head()"
   ]
  },
  {
   "cell_type": "markdown",
   "id": "f9726535",
   "metadata": {},
   "source": [
    "#### 전년(2020년) 대비 2021년 업종별 변동 확인"
   ]
  },
  {
   "cell_type": "code",
   "execution_count": null,
   "id": "9595af0e",
   "metadata": {},
   "outputs": [],
   "source": [
    "# 고객수가 감소한 상위 다섯 개 업종을 확인합니다.\n",
    "df1.sort_values(by = ['고객증감률2021']).head()"
   ]
  },
  {
   "cell_type": "code",
   "execution_count": null,
   "id": "051fb1e6",
   "metadata": {},
   "outputs": [],
   "source": [
    "# 매출액이 감소한 상위 다섯 개 업종을 확인합니다.\n",
    "df1.sort_values(by = ['매출증감률2021']).head()"
   ]
  },
  {
   "cell_type": "code",
   "execution_count": null,
   "id": "cb2c992b",
   "metadata": {},
   "outputs": [],
   "source": [
    "# 고객수가 증가한 상위 다섯 개 업종을 확인합니다.\n",
    "df1.sort_values(by = ['고객증감률2021'], ascending = False).head()"
   ]
  },
  {
   "cell_type": "code",
   "execution_count": null,
   "id": "10f324af",
   "metadata": {},
   "outputs": [],
   "source": [
    "# 매출액이 증가한 상위 다섯 개 업종을 확인합니다.\n",
    "df1.sort_values(by = ['매출증감률2021'], ascending = False).head()"
   ]
  },
  {
   "cell_type": "markdown",
   "id": "b58ab1c8",
   "metadata": {},
   "source": [
    "#### 2021년 고객수 및 매출액 상위 업종 확인"
   ]
  },
  {
   "cell_type": "code",
   "execution_count": null,
   "id": "bc3259d3",
   "metadata": {},
   "outputs": [],
   "source": [
    "# 고객수 상위 다섯 개 업종을 확인합니다.\n",
    "df1.sort_values(by = ['고객수2021'], ascending = False).head()"
   ]
  },
  {
   "cell_type": "code",
   "execution_count": null,
   "id": "a5e35448",
   "metadata": {},
   "outputs": [],
   "source": [
    "# 매출액 상위 다섯 개 업종을 확인합니다.\n",
    "df1.sort_values(by = ['매출액2021'], ascending = False).head()"
   ]
  },
  {
   "cell_type": "markdown",
   "id": "1d0a95d7",
   "metadata": {},
   "source": [
    "### 데이터 시각화 : seaborn & matplotlib 라이브러리"
   ]
  },
  {
   "cell_type": "markdown",
   "id": "ae73ff67",
   "metadata": {},
   "source": [
    "#### 그래프 옵션 및 폰트 설정"
   ]
  },
  {
   "cell_type": "code",
   "execution_count": null,
   "id": "4a46a071",
   "metadata": {},
   "outputs": [],
   "source": [
    "# 라이브러리를 호출합니다.\n",
    "import seaborn as sns\n",
    "import matplotlib.pyplot as plt\n",
    "import matplotlib.font_manager as fm\n",
    "%matplotlib inline"
   ]
  },
  {
   "cell_type": "code",
   "execution_count": null,
   "id": "dafc3fe8",
   "metadata": {},
   "outputs": [],
   "source": [
    "# 그래프의 크기와 해상도를 설정합니다.\n",
    "plt.rcParams['figure.figsize'] = (8, 4)\n",
    "plt.rcParams['figure.dpi'] = 100"
   ]
  },
  {
   "cell_type": "markdown",
   "id": "3a54416d",
   "metadata": {},
   "source": [
    "#### 구글 폰트에 등록된 한글 폰트를 설치하는 방법을 소개합니다.\n",
    "\n",
    "- [구글 폰트](https://fonts.google.com/?subset=korean)에서 원하는 한글 폰트를 선택합니다.\n",
    "- 한글 폰트를 압축파일을 내려받습니다.\n",
    "- 다운로드 폴더로 이동하여 압출파일을 풀면 **ttf(true type font)** 파일이 포함되어 있습니다.\n",
    "- **ttf** 파일에서 마우스 오른쪽 버튼을 클릭하고, **설치** 메뉴를 선택하면 폰트가 설치됩니다."
   ]
  },
  {
   "cell_type": "code",
   "execution_count": null,
   "id": "2c3cc6f3",
   "metadata": {},
   "outputs": [],
   "source": [
    "# 사용 중인 컴퓨터에 설치된 폰트 목록을 생성합니다.\n",
    "fontList = fm.findSystemFonts(fontext = 'ttf')"
   ]
  },
  {
   "cell_type": "code",
   "execution_count": null,
   "id": "4651e18a",
   "metadata": {},
   "outputs": [],
   "source": [
    "# 설치된 폰트 개수를 확인합니다.\n",
    "len(fontList)"
   ]
  },
  {
   "cell_type": "code",
   "execution_count": null,
   "id": "858282a5",
   "metadata": {},
   "outputs": [],
   "source": [
    "# 폰트 목록의 일부를 출력합니다.\n",
    "fontList[0:10]"
   ]
  },
  {
   "cell_type": "code",
   "execution_count": null,
   "id": "57e39e85",
   "metadata": {},
   "outputs": [],
   "source": [
    "# 원하는 한글 폰트명으로 폰트 경로를 찾습니다.\n",
    "fontPath = [font for font in fontList if 'GamjaFlower' in font]"
   ]
  },
  {
   "cell_type": "code",
   "execution_count": null,
   "id": "f3deade9",
   "metadata": {},
   "outputs": [],
   "source": [
    "# 한글 폰트 경로를 출력하고, 원하는 것을 선택합니다.\n",
    "for i, e in enumerate(fontPath):\n",
    "    print(i, e)"
   ]
  },
  {
   "cell_type": "code",
   "execution_count": null,
   "id": "b2671501",
   "metadata": {},
   "outputs": [],
   "source": [
    "# 한글 폰트 정보를 생성합니다.\n",
    "fontProp = fm.FontProperties(fname = fontPath[0])"
   ]
  },
  {
   "cell_type": "code",
   "execution_count": null,
   "id": "9e2f9186",
   "metadata": {},
   "outputs": [],
   "source": [
    "# 한글 폰트와 글자 크기를 설정합니다.\n",
    "plt.rcParams['font.family'] = fontProp.get_name()\n",
    "plt.rcParams['font.size'] = 12"
   ]
  },
  {
   "cell_type": "markdown",
   "id": "160136c1",
   "metadata": {},
   "source": [
    "#### 막대 그래프 시각화"
   ]
  },
  {
   "cell_type": "code",
   "execution_count": null,
   "id": "99a73a6b",
   "metadata": {},
   "outputs": [],
   "source": [
    "# 관심 업종을 선택합니다. 업종이 여러 개일 때 바(bar) 기호로 연결합니다.\n",
    "upjong = '일반한식|서양음식'"
   ]
  },
  {
   "cell_type": "code",
   "execution_count": null,
   "id": "29d36ce1",
   "metadata": {},
   "outputs": [],
   "source": [
    "# 관심 업종만 선택하여 데이터프레임 df2를 생성하고 일부를 출력합니다.\n",
    "df2 = df.loc[df['업종명'].str.contains(upjong)]\n",
    "df2.head()"
   ]
  },
  {
   "cell_type": "code",
   "execution_count": null,
   "id": "f63bd23c",
   "metadata": {},
   "outputs": [],
   "source": [
    "# 연령대별 매출액 변화를 시각화합니다.\n",
    "df2 = df2.sort_values(by = ['연령대', '업종명'])\n",
    "sns.catplot(data = df2, x = '연령대', y = '매출액', hue = '년', col = '업종명', kind = 'bar', \n",
    "            estimator = sum, ci = None, palette = 'Reds', legend_out = False);"
   ]
  },
  {
   "cell_type": "code",
   "execution_count": null,
   "id": "728d85cc",
   "metadata": {},
   "outputs": [],
   "source": [
    "# 성별 매출액 변화를 시각화합니다.\n",
    "df2 = df2.sort_values(by = ['성별', '업종명'])\n",
    "sns.catplot(data = df2, x = '성별', y = '매출액', hue = '년', col = '업종명', kind = 'bar', \n",
    "            estimator = sum, ci = None, palette = 'Blues', legend_out = False);"
   ]
  },
  {
   "cell_type": "code",
   "execution_count": null,
   "id": "d19c10f6",
   "metadata": {
    "scrolled": false
   },
   "outputs": [],
   "source": [
    "# 가구생애주기별 매출액 변화를 시각화합니다.\n",
    "df2 = df2.sort_values(by = ['가구생애주기', '업종명'])\n",
    "sns.catplot(data = df2, x = '가구생애주기', y = '매출액', hue = '년', col = '업종명', kind = 'bar', \n",
    "            estimator = sum, ci = None, palette = 'Greens', legend_out = False);"
   ]
  },
  {
   "cell_type": "code",
   "execution_count": null,
   "id": "908444cc",
   "metadata": {},
   "outputs": [],
   "source": [
    "# 가구생애주기 및 성별 매출액 변화를 시각화합니다.\n",
    "df2 = df2.sort_values(by = ['가구생애주기', '성별'])\n",
    "sns.catplot(data = df2, x = '가구생애주기', y = '매출액', hue = '년', col = '성별', kind = 'bar', \n",
    "            estimator = sum, ci = None, palette = 'Purples', legend_out = False);"
   ]
  },
  {
   "cell_type": "code",
   "execution_count": null,
   "id": "0c8a9753",
   "metadata": {},
   "outputs": [],
   "source": [
    "# 요일별 매출액 변화를 시각화합니다.\n",
    "df2 = df2.sort_values(by = ['요일', '업종명'])\n",
    "sns.catplot(data = df2, x = '요일', y = '매출액', hue = '년', col = '업종명', kind = 'bar', \n",
    "            estimator = sum, ci = None, palette = 'Oranges', legend_out = False);"
   ]
  },
  {
   "cell_type": "markdown",
   "id": "04032eb3",
   "metadata": {},
   "source": [
    "### 지역 경계 데이터 전처리"
   ]
  },
  {
   "cell_type": "markdown",
   "id": "d917f0da",
   "metadata": {},
   "source": [
    "- 특정한 지리 현상(예를 들어, 인구 변동 등)을 선택적으로 표현한 것을 '주제도'라고 합니다. \n",
    "- 주제도를 표현할 때, 지도를 행정구역으로 나누고 색상의 음영을 다르게 한 것으로 '단계구분도'라고 합니다.\n",
    "- 단계구분도를 시각화하려면 지역 경계 데이터가 필요합니다.\n",
    "\n",
    "\n",
    "- 지역 경계 데이터는 **법정동 및 행정동**으로 제공되며, **shape 또는 GeoJSON** 파일이 필요합니다.\n",
    "- 이번 강의에서는 **행정동 경계** 데이터를 포함하는 **GeoJSON** 파일을 읽고 전처리하는 방법을 소개합니다."
   ]
  },
  {
   "cell_type": "markdown",
   "id": "9bd2930e",
   "metadata": {},
   "source": [
    "#### [참고] 법정동과 행정동의 차이\n",
    "- 법정동 : 법으로 지정된 대한민국 행정구역의 일종. 거의 변동 없음\n",
    "- 행정동 : 법정동으로 지역의 통제가 되지 않으므로 지방자치단체가 분할/통합/조정한 행정구역. 수시로 변동"
   ]
  },
  {
   "cell_type": "markdown",
   "id": "432d09fa",
   "metadata": {},
   "source": [
    "#### [참고] shape 파일이란?\n",
    "- 확장자가 .shp인 파일로, 행정구역의 경계 좌표를 포함하고 있습니다.\n",
    "- .shp 외에 .shx, .dbf, .prj 등이 함께 포함되어 있어야 제대로 읽을 수 있습니다.\n",
    " - Python에서 **geopandas** 라이브러리를 이용하면 .shp 파일을 쉽게 읽을 수 있습니다.\n",
    "\n",
    "\n",
    "- **shape 파일**을 제공하는 사이트를 소개합니다.\n",
    " - [공간정보시스템](http://www.gisdeveloper.co.kr/?p=2332)에서 법정동의 행정경계 데이터를 제공하고 있습니다. (회원가입 필요 없는 가장 간단한 방법!)\n",
    " - 최신 '시군구' 행정경계 데이터를 압축파일로 다운로드합니다.\n",
    " - 압축파일을 풀면 **EMD_yyyymm** 폴더가 들어 있습니다."
   ]
  },
  {
   "cell_type": "markdown",
   "id": "43678328",
   "metadata": {},
   "source": [
    "#### [참고] GeoJSON 파일이란?\n",
    "- 위치 정보를 갖는 점(경도, 위도)으로 체계적으로 지형을 표현하기 위해 설계된 개방형 공개 표준 형식입니다. (위키피디아 참조)\n",
    "- **GeoJSON** 파일을 출력하면 **key:value**를 원소로 갖는 **Python 딕셔너리** 자료구조와 같습니다.\n",
    "- JSON(JavaScript Object Notation)은 데이터를 송수신할 때 인간이 읽을 수 있는 개방행 표준 포맷입니다. (위키피디아 참조)\n",
    "\n",
    "\n",
    "- 이번 강의에서 사용할 행정동 경계 데이터를 포함하는 GeoJSON 파일 원본은 [여기](https://raw.githubusercontent.com/vuski/admdongkor/master/ver20210401/HangJeongDong_ver20210401.geojson)에서 확인하세요."
   ]
  },
  {
   "cell_type": "markdown",
   "id": "843fd2cc",
   "metadata": {},
   "source": [
    "### geopandas 라이브러리\n",
    "\n",
    "* Python에서 지역 경계 데이터(shp 파일)을 읽을 때 주로 사용되는 라이브러리입니다.\n",
    "\n",
    "\n",
    "* pandas 라이브러리의 데이터프레임과 유사합니다.\n",
    " - GeoDataFrame 및 GeoJSON 자료형을 다룰 수 있습니다.\n",
    "\n",
    "\n",
    "* **Geometry** 자료형을 지원하므로, 여러 좌표를 하나로 묶은 **다각형(Polygon)** 처리가 쉽습니다."
   ]
  },
  {
   "cell_type": "markdown",
   "id": "97b7e49e",
   "metadata": {},
   "source": [
    "### Windows에서 geopandas 라이브러리를 설치하려면 4개의 의존성 라이브러리를 먼저 설치해야 합니다.\n",
    "- 4개의 의존성 라이브러리는 **GDAL, Fiona, pyproj, Rtree**이며, 설치하는 순서가 중요합니다!\n",
    "- 문제는 의존성 라이브러리의 용량이 매우 커서 <u>**pip 또는 conda로 설치할 수 없다**</u>는 것입니다.\n",
    "- 따라서 **Python 버전에 맞는 최신 whl 파일** 내려받고, whl 파일로 설치해야 합니다. (cp39 또는 cp38)\n",
    " - [GDAL](https://www.lfd.uci.edu/~gohlke/pythonlibs/#gdal)\n",
    " - [pyproj](https://www.lfd.uci.edu/~gohlke/pythonlibs/#pyproj)\n",
    " - [Fiona](https://www.lfd.uci.edu/~gohlke/pythonlibs/#fiona)\n",
    " - [Shapely](https://www.lfd.uci.edu/~gohlke/pythonlibs/#shapely)\n",
    " - [geopandas](https://www.lfd.uci.edu/~gohlke/pythonlibs/#geopandas)"
   ]
  },
  {
   "cell_type": "code",
   "execution_count": null,
   "id": "c72354c6",
   "metadata": {},
   "outputs": [],
   "source": [
    "# 현재 사용 중인 파이썬 버전을 확인합니다.\n",
    "import sys\n",
    "sys.version"
   ]
  },
  {
   "cell_type": "raw",
   "id": "04be7498",
   "metadata": {},
   "source": [
    "# Jupyter 초기 화면에서 Terminal을 열고 다운로드 폴더로 이동합니다.\n",
    "# 아래와 같이 5개의 패키지를 순서대로 설치하세요!\n",
    "pip install GDAL-3.3.1-cp38-cp38-win_amd64.whl\n",
    "pip install pyproj-3.1.0-cp38-cp38-win_amd64.whl\n",
    "pip install Fiona-1.8.20-cp38-cp38-win_amd64.whl\n",
    "pip install Shapely-1.7.1-cp38-cp38-win_amd64.whl\n",
    "pip install geopandas-0.9.0-py3-none-any.whl"
   ]
  },
  {
   "cell_type": "code",
   "execution_count": null,
   "id": "dee5c24e",
   "metadata": {},
   "outputs": [],
   "source": [
    "# 라이브러리를 호출합니다.\n",
    "from urllib.request import urlopen\n",
    "import json\n",
    "from shapely import geometry\n",
    "import geopandas as gpd"
   ]
  },
  {
   "cell_type": "code",
   "execution_count": null,
   "id": "c917ef8a",
   "metadata": {},
   "outputs": [],
   "source": [
    "# GeoJSON 파일이 포함된 URL을 지정합니다.\n",
    "url = 'https://raw.githubusercontent.com/vuski/admdongkor/master/ver20210401/HangJeongDong_ver20210401.geojson'"
   ]
  },
  {
   "cell_type": "code",
   "execution_count": null,
   "id": "58739cd3",
   "metadata": {},
   "outputs": [],
   "source": [
    "# HTTP 요청을 통해 URL 데이터를 읽고, HTTP 응답을 받습니다.\n",
    "res = urlopen(url)"
   ]
  },
  {
   "cell_type": "code",
   "execution_count": null,
   "id": "a7fe2391",
   "metadata": {},
   "outputs": [],
   "source": [
    "# HTTP 응답 데이터로부터 GeoJSON 데이터를 읽습니다.\n",
    "data = json.load(res)"
   ]
  },
  {
   "cell_type": "raw",
   "id": "dd82aa8c",
   "metadata": {},
   "source": [
    "# [참고] 위 방법으로 GeoJSON 파일을 읽을 수 없으면, data 폴더에 저장된 GeoJSON 파일을 대신 읽습니다.\n",
    "file = open(file = 'HangJeongDong_ver20210401.geojson', mode = 'r')\n",
    "data = json.load(file)"
   ]
  },
  {
   "cell_type": "code",
   "execution_count": null,
   "id": "45146139",
   "metadata": {},
   "outputs": [],
   "source": [
    "# data의 feature만 선택하고, data에 재할당합니다.\n",
    "data = data['features']"
   ]
  },
  {
   "cell_type": "code",
   "execution_count": null,
   "id": "99f29961",
   "metadata": {},
   "outputs": [],
   "source": [
    "# geometry를 shape으로 변환합니다.\n",
    "for d in data:\n",
    "    d['geometry'] = geometry.shape(d['geometry'])"
   ]
  },
  {
   "cell_type": "code",
   "execution_count": null,
   "id": "4e0eb900",
   "metadata": {},
   "outputs": [],
   "source": [
    "# data로 데이터프레임 shpDong를 생성합니다.\n",
    "shpDong = pd.json_normalize(data)"
   ]
  },
  {
   "cell_type": "code",
   "execution_count": null,
   "id": "a5df3639",
   "metadata": {},
   "outputs": [],
   "source": [
    "# shpDong의 클래스를 확인합니다.\n",
    "type(shpDong)"
   ]
  },
  {
   "cell_type": "code",
   "execution_count": null,
   "id": "fd2fc168",
   "metadata": {},
   "outputs": [],
   "source": [
    "# shpDong의 행과 열 길이를 확인합니다.\n",
    "shpDong.shape"
   ]
  },
  {
   "cell_type": "code",
   "execution_count": null,
   "id": "b5c770d8",
   "metadata": {},
   "outputs": [],
   "source": [
    "# shpDong의 일부를 출력합니다.\n",
    "shpDong.head()"
   ]
  },
  {
   "cell_type": "code",
   "execution_count": null,
   "id": "35a18523",
   "metadata": {},
   "outputs": [],
   "source": [
    "# 서울특별시 강남구만 남깁니다.\n",
    "shpDong = shpDong.loc[shpDong['properties.sgg'] == '11680']"
   ]
  },
  {
   "cell_type": "code",
   "execution_count": null,
   "id": "8b407481",
   "metadata": {},
   "outputs": [],
   "source": [
    "# 필요한 열만 남깁니다.\n",
    "shpDong = shpDong[['properties.adm_cd2', 'properties.adm_nm', 'geometry']]"
   ]
  },
  {
   "cell_type": "code",
   "execution_count": null,
   "id": "6b9ab926",
   "metadata": {},
   "outputs": [],
   "source": [
    "# shpDong의 행과 열 길이를 다시 확인합니다.\n",
    "shpDong.shape"
   ]
  },
  {
   "cell_type": "code",
   "execution_count": null,
   "id": "521d920e",
   "metadata": {
    "scrolled": true
   },
   "outputs": [],
   "source": [
    "# shpDong의 일부를 출력합니다.\n",
    "shpDong.head()"
   ]
  },
  {
   "cell_type": "code",
   "execution_count": null,
   "id": "2896ba5c",
   "metadata": {},
   "outputs": [],
   "source": [
    "# shpDong의 행이름을 초기화합니다.\n",
    "shpDong = shpDong.reset_index(drop = True)"
   ]
  },
  {
   "cell_type": "code",
   "execution_count": null,
   "id": "00700292",
   "metadata": {},
   "outputs": [],
   "source": [
    "# shpDong의 열이름을 변경합니다.\n",
    "shpDong.columns = ['ADM_CD', 'ADM_NM', 'geometry']"
   ]
  },
  {
   "cell_type": "code",
   "execution_count": null,
   "id": "5b5509e6",
   "metadata": {},
   "outputs": [],
   "source": [
    "# ADM_NM을 시도(SIDO), 시군구(SIGG), 행정동(DONG)으로 분리합니다.\n",
    "# expand = True를 추가하면 데이터프레임으로 반환합니다.\n",
    "dong = shpDong['ADM_NM'].str.split(pat = ' ', expand = True)"
   ]
  },
  {
   "cell_type": "code",
   "execution_count": null,
   "id": "477150e7",
   "metadata": {},
   "outputs": [],
   "source": [
    "# dong의 일부를 출력합니다.\n",
    "dong.head()"
   ]
  },
  {
   "cell_type": "code",
   "execution_count": null,
   "id": "fe26fabf",
   "metadata": {},
   "outputs": [],
   "source": [
    "# dong의 열이름을 변경합니다.\n",
    "dong.columns = ['SIDO', 'SIGG', 'DONG']"
   ]
  },
  {
   "cell_type": "code",
   "execution_count": null,
   "id": "ada5f12f",
   "metadata": {},
   "outputs": [],
   "source": [
    "# shpDong에 dong을 삽입합니다.\n",
    "# [참고] dataframe.insert() 함수로는 시리즈만 삽입할 수 있습니다!\n",
    "shpDong = pd.concat(objs = [shpDong[['ADM_CD']], dong, shpDong[['geometry']]], axis = 1)"
   ]
  },
  {
   "cell_type": "code",
   "execution_count": null,
   "id": "bf80e5ec",
   "metadata": {},
   "outputs": [],
   "source": [
    "# shpDong의 일부를 출력합니다.\n",
    "shpDong.head()"
   ]
  },
  {
   "cell_type": "code",
   "execution_count": null,
   "id": "1f3fe550",
   "metadata": {},
   "outputs": [],
   "source": [
    "# shpDong를 GeoDataFrame으로 변환합니다.\n",
    "shpDong = gpd.GeoDataFrame(shpDong)"
   ]
  },
  {
   "cell_type": "code",
   "execution_count": null,
   "id": "9afbdb61",
   "metadata": {},
   "outputs": [],
   "source": [
    "# shpDong의 클래스를 확인합니다.\n",
    "type(shpDong)"
   ]
  },
  {
   "cell_type": "markdown",
   "id": "876cc2ac",
   "metadata": {},
   "source": [
    "#### [참고] shape 파일을 읽는 방법을 소개합니다."
   ]
  },
  {
   "cell_type": "raw",
   "id": "d6d243d2",
   "metadata": {},
   "source": [
    "# shape 파일이 포함된 'EMD_202101' 폴더로 작업경로를 변경합니다.\n",
    "os.chdir(path = '../EMD_202101')\n",
    "\n",
    "# 작업경로에 포함된 폴더명과 파일명을 출력합니다.\n",
    "os.listdir()\n",
    "\n",
    "# shp 파일을 GeoDataFrame으로 읽습니다.\n",
    "shpDong = gpd.read_file(filename = 'TL_SCCO_EMD.shp', encoding = 'EUC-KR')\n",
    "\n",
    "# 위 방식으로 생성된 shpDong는 GeoDataFrame이며, 법정동 경계 데이터를 포함하고 있습니다."
   ]
  },
  {
   "cell_type": "code",
   "execution_count": null,
   "id": "97e30b11",
   "metadata": {},
   "outputs": [],
   "source": [
    "# shpDong의 일부를 출력합니다.\n",
    "shpDong.head()"
   ]
  },
  {
   "cell_type": "markdown",
   "id": "97954ab5",
   "metadata": {},
   "source": [
    "#### 좌표계 (위도와 경도) 종류\n",
    "\n",
    "* **WGS84** : GPS가 사용하는 좌표계 (EPSG: 4326)\n",
    "* **UTM-K(Bessel)** : 새주소지도에서 사용 중인 좌표계 (EPSG: 5178)\n",
    "* **UTM-K(GRS80)** : 네이버 지도에서 사용 중인 좌표계 (EPSG: 5179)\n",
    "\n",
    "\n",
    "* 출처 : https://www.osgeo.kr/17"
   ]
  },
  {
   "cell_type": "code",
   "execution_count": null,
   "id": "46ec249c",
   "metadata": {},
   "outputs": [],
   "source": [
    "# shpDong의 좌표계를 확인합니다. (값이 없을 수 있습니다!)\n",
    "shpDong.crs"
   ]
  },
  {
   "cell_type": "raw",
   "id": "ea8a3d6f",
   "metadata": {},
   "source": [
    "# shpDong의 좌표계가 WGS84가 아니면, WGS84 좌표계로 변환해야 합니다.\n",
    "shpDong = shpDong.to_crs(epsg = 4326)"
   ]
  },
  {
   "cell_type": "markdown",
   "id": "afc24e56",
   "metadata": {},
   "source": [
    "#### 단계구분도 시각화용 GeoJSON 파일 저장"
   ]
  },
  {
   "cell_type": "code",
   "execution_count": null,
   "id": "808de315",
   "metadata": {},
   "outputs": [],
   "source": [
    "# 현재 작업경로를 확인합니다.\n",
    "os.getcwd()"
   ]
  },
  {
   "cell_type": "code",
   "execution_count": null,
   "id": "e0fb51f2",
   "metadata": {},
   "outputs": [],
   "source": [
    "# shpDong를 GeoJSON 파일로 저장합니다. \n",
    "shpDong.to_file(filename = 'shpDong.json', driver = 'GeoJSON')"
   ]
  },
  {
   "cell_type": "markdown",
   "id": "47be430c",
   "metadata": {},
   "source": [
    "#### 단계구분도 시각화용 요약 데이터셋 생성"
   ]
  },
  {
   "cell_type": "code",
   "execution_count": null,
   "id": "032a090d",
   "metadata": {},
   "outputs": [],
   "source": [
    "# 요약 데이터셋을 생성하는 함수를 정의합니다.\n",
    "# 이 함수는 행정동별 전년 대비 2021년 매출액 차이를 데이터프레임으로 반환합니다.\n",
    "def smrfunc(upjong):\n",
    "    \n",
    "    # 업종명을 포함하는 부분집합을 생성합니다.\n",
    "    sub = df.loc[df['업종명'] == upjong]\n",
    "    \n",
    "    # 행정동, 년 기준으로 매출액 합계를 계산합니다.\n",
    "    smr = sub.groupby(by = ['읍면동', '년']).sum()[['매출액']]\n",
    "    \n",
    "    # Long Type을 Wide Type으로 변환하고, 결측값을 갖는 행을 삭제합니다.\n",
    "    smr = smr.unstack(fill_value = 0).dropna()\n",
    "    \n",
    "    # 열이름에서 0번 레벨과 1번 레벨의 Name을 제거합니다.\n",
    "    smr.columns = smr.columns.droplevel(level = 0)\n",
    "    smr.columns.name = None\n",
    "    \n",
    "    # 행이름을 초기화합니다.\n",
    "    smr = smr.reset_index()\n",
    "    \n",
    "    # 전년 대비 2021년 매출액 차이를 새로운 변수로 생성합니다.\n",
    "    smr['매출차이'] = smr[2021] - smr[2020]\n",
    "    \n",
    "    # smr에서 불필요한 열(2019~2021)을 삭제합니다.\n",
    "    smr = smr.drop(labels = smr.columns[1:4], axis = 1)\n",
    "    \n",
    "    # 매출차이의 단위를 원에서 백만원으로 변경하고, 정수부분만 남도록 반올림합니다.\n",
    "    smr['매출차이'] = (smr['매출차이'] / 1000000).round(0)\n",
    "    \n",
    "    # 단계구분도에서 마우스를 올렸을 때 출력할 정보를 생성합니다.\n",
    "    smr['HOVER'] = smr['읍면동'] + ' : ' + smr['매출차이'].astype('str')\n",
    "    \n",
    "    # smr을 반환합니다.\n",
    "    return smr"
   ]
  },
  {
   "cell_type": "code",
   "execution_count": null,
   "id": "f5d855fb",
   "metadata": {},
   "outputs": [],
   "source": [
    "# 일반한식 업종의 요약 데이터셋을 생성합니다.\n",
    "smr1 = smrfunc(upjong = '일반한식')\n",
    "smr1.sort_values(by = ['매출차이'], ascending = False)"
   ]
  },
  {
   "cell_type": "code",
   "execution_count": null,
   "id": "cfec19f2",
   "metadata": {},
   "outputs": [],
   "source": [
    "# 서양음식 업종의 요약 데이터셋을 생성합니다.\n",
    "smr2 = smrfunc(upjong = '서양음식')\n",
    "smr2.sort_values(by = ['매출차이'], ascending = False)"
   ]
  },
  {
   "cell_type": "code",
   "execution_count": null,
   "id": "8b06fee1",
   "metadata": {},
   "outputs": [],
   "source": [
    "# 편의점 업종의 요약 데이터셋을 생성합니다.\n",
    "smr3 = smrfunc(upjong = '편의점')\n",
    "smr3.sort_values(by = ['매출차이'], ascending = False)"
   ]
  },
  {
   "cell_type": "code",
   "execution_count": null,
   "id": "fcf8537c",
   "metadata": {},
   "outputs": [],
   "source": [
    "# 노래방 업종의 요약 데이터셋을 생성합니다.\n",
    "smr4 = smrfunc(upjong = '노래방')\n",
    "smr4.sort_values(by = ['매출차이'], ascending = False)"
   ]
  },
  {
   "cell_type": "markdown",
   "id": "abdbed53",
   "metadata": {},
   "source": [
    "### 지도 시각화 : folium 라이브러리"
   ]
  },
  {
   "cell_type": "markdown",
   "id": "06a601a5",
   "metadata": {},
   "source": [
    "#### folium 라이브러리\n",
    "\n",
    "* 웹 상에서 지도를 표현할 때 많이 사용되는 leaflet.js를 Python에서 구현한 라이브러리입니다.\n",
    "\n",
    "* WGS84 좌표계의 위도와 경도를 지정하면, 해당 지점을 중심으로 하는 지도를 호출합니다.\n",
    "\n",
    "* 지도 위에 단계구분도 표현이 가능하므로 쉽고 깔끔한 지도 시각화가 가능합니다."
   ]
  },
  {
   "cell_type": "raw",
   "id": "37f7569c",
   "metadata": {},
   "source": [
    "# Jupyter 초기 화면에서 Terminal을 열고 folium 라이브러리를 설치합니다.\n",
    "pip install folium"
   ]
  },
  {
   "cell_type": "code",
   "execution_count": null,
   "id": "28c990e4",
   "metadata": {},
   "outputs": [],
   "source": [
    "# 라이브러리를 호출합니다.\n",
    "import folium"
   ]
  },
  {
   "cell_type": "code",
   "execution_count": null,
   "id": "322eda2b",
   "metadata": {},
   "outputs": [],
   "source": [
    "# shpDong의 total_bounds를 확인합니다.\n",
    "shpDong.geometry.total_bounds\n",
    "\n",
    "# 전체 좌표의 왼쪽 하단, 오른쪽 상단의 좌표가 포함되어 있습니다."
   ]
  },
  {
   "cell_type": "code",
   "execution_count": null,
   "id": "bd909bc3",
   "metadata": {},
   "outputs": [],
   "source": [
    "# 좌표의 전체 범위를 각각 지정합니다.\n",
    "x1, y1, x2, y2 = shpDong.geometry.total_bounds"
   ]
  },
  {
   "cell_type": "code",
   "execution_count": null,
   "id": "5a838c6d",
   "metadata": {},
   "outputs": [],
   "source": [
    "# 전체 범위의 중간 지점을 계산하여 중심 좌표로 설정합니다.\n",
    "# [주의] 위도, 경도 순으로 지정해야 합니다!\n",
    "center = (y1 + y2) / 2, (x1 + x2) / 2\n",
    "center"
   ]
  },
  {
   "cell_type": "code",
   "execution_count": null,
   "id": "e9a09e13",
   "metadata": {
    "scrolled": true
   },
   "outputs": [],
   "source": [
    "# GeoJSON 파일을 읽고 출력합니다.\n",
    "raw = open(file = 'shpDong.json', mode = 'rb')\n",
    "jsonData = json.load(raw)"
   ]
  },
  {
   "cell_type": "markdown",
   "id": "c2c82dbd",
   "metadata": {},
   "source": [
    "#### 지도 생성 : folium.Map() 함수의 tiles 매개변수에 지도 타입 설정\n",
    "- 'OpenStreetmap'(기본값)\n",
    "- 'Stamen Terrain'\n",
    "- 'Stamen Toner' 등"
   ]
  },
  {
   "cell_type": "code",
   "execution_count": null,
   "id": "fe26718d",
   "metadata": {
    "scrolled": false
   },
   "outputs": [],
   "source": [
    "# 지도를 생성합니다.\n",
    "# [주의] 중심 좌표는 위도, 경도 순으로 지정되어야 합니다.\n",
    "Map = folium.Map(location = center, zoom_start = 13, tiles = 'Stamen Terrain')\n",
    "\n",
    "# 지도를 출력합니다.\n",
    "Map"
   ]
  },
  {
   "cell_type": "code",
   "execution_count": null,
   "id": "b7f00707",
   "metadata": {},
   "outputs": [],
   "source": [
    "# 지도에 행정동 경계를 추가합니다.\n",
    "Choro = folium.Choropleth(\n",
    "    geo_data = jsonData,\n",
    "    key_on = 'feature.properties.DONG',\n",
    "    fill_color = 'white',\n",
    "    fill_opacity = 0.5,\n",
    "    line_color = 'red',\n",
    "    line_opacity = 1,\n",
    "    name = '행정경계',\n",
    "    highlight = True\n",
    ").add_to(Map)\n",
    "\n",
    "# 행정동 위에 마우스를 올렸을 때 출력할 데이터를 설정합니다.\n",
    "Choro.geojson.add_child(\n",
    "    folium.features.GeoJsonTooltip(fields = ['DONG'], labels = False)\n",
    ")\n",
    "\n",
    "# 지도를 출력합니다.\n",
    "Map"
   ]
  },
  {
   "cell_type": "code",
   "execution_count": null,
   "id": "aeb9ea72",
   "metadata": {},
   "outputs": [],
   "source": [
    "# 지도에 첫 번째 단계구분도를 추가합니다. (일반한식)\n",
    "Choro = folium.Choropleth(\n",
    "    geo_data = jsonData,\n",
    "    data = smr1,\n",
    "    columns = ['읍면동', '매출차이'],\n",
    "    key_on = 'feature.properties.DONG',\n",
    "    fill_color = 'Reds',\n",
    "    nan_fill_color = 'Gray',\n",
    "    line_color = 'black',\n",
    "    fill_opacity = 1,\n",
    "    line_opacity = 1,\n",
    "    name = '일반한식',\n",
    "    legend_name = '매출차이(일반한식)',\n",
    "    highlight = True\n",
    ").add_to(Map)\n",
    "\n",
    "# 행정동 위에 마우스를 올렸을 때 출력할 데이터를 설정합니다.\n",
    "Choro.geojson.add_child(\n",
    "    folium.features.GeoJsonTooltip(fields = ['DONG'], labels = False)\n",
    ")\n",
    "\n",
    "# 지도를 출력합니다.\n",
    "Map"
   ]
  },
  {
   "cell_type": "code",
   "execution_count": null,
   "id": "ef96e77f",
   "metadata": {},
   "outputs": [],
   "source": [
    "# 지도에 두 번째 단계구분도를 추가합니다. (서양음식)\n",
    "Choro = folium.Choropleth(\n",
    "    geo_data = jsonData,\n",
    "    data = smr2,\n",
    "    columns = ['읍면동', '매출차이'],\n",
    "    key_on = 'feature.properties.DONG',\n",
    "    fill_color = 'Blues',\n",
    "    nan_fill_color = 'Gray',\n",
    "    line_color = 'black',\n",
    "    fill_opacity = 1,\n",
    "    line_opacity = 1,\n",
    "    name = '서양음식',\n",
    "    legend_name = '매출차이(서양음식)',\n",
    "    highlight = True\n",
    ").add_to(Map)\n",
    "\n",
    "# 행정동 위에 마우스를 올렸을 때 출력할 데이터를 설정합니다.\n",
    "Choro.geojson.add_child(\n",
    "    folium.features.GeoJsonTooltip(fields = ['DONG'], labels = False)\n",
    ")\n",
    "\n",
    "# 지도를 출력합니다.\n",
    "Map"
   ]
  },
  {
   "cell_type": "code",
   "execution_count": null,
   "id": "dde4684d",
   "metadata": {},
   "outputs": [],
   "source": [
    "# 지도에 세 번째 단계구분도를 추가합니다. (편의점)\n",
    "Choro = folium.Choropleth(\n",
    "    geo_data = jsonData,\n",
    "    data = smr3,\n",
    "    columns = ['읍면동', '매출차이'],\n",
    "    key_on = 'feature.properties.DONG',\n",
    "    fill_color = 'Greens',\n",
    "    nan_fill_color = 'Gray',\n",
    "    line_color = 'black',\n",
    "    fill_opacity = 1,\n",
    "    line_opacity = 1,\n",
    "    name = '편의점',\n",
    "    legend_name = '매출차이(편의점)',\n",
    "    highlight = True\n",
    ").add_to(Map)\n",
    "\n",
    "# 행정동 위에 마우스를 올렸을 때 출력할 데이터를 설정합니다.\n",
    "Choro.geojson.add_child(\n",
    "    folium.features.GeoJsonTooltip(fields = ['DONG'], labels = False)\n",
    ")\n",
    "\n",
    "# 지도를 출력합니다.\n",
    "Map"
   ]
  },
  {
   "cell_type": "code",
   "execution_count": null,
   "id": "7de66db9",
   "metadata": {},
   "outputs": [],
   "source": [
    "# 지도에 네 번째 단계구분도를 추가합니다. (노래방)\n",
    "Choro = folium.Choropleth(\n",
    "    geo_data = jsonData,\n",
    "    data = smr4,\n",
    "    columns = ['읍면동', '매출차이'],\n",
    "    key_on = 'feature.properties.DONG',\n",
    "    fill_color = 'Purples',\n",
    "    nan_fill_color = 'Gray',\n",
    "    line_color = 'black',\n",
    "    fill_opacity = 1,\n",
    "    line_opacity = 1,\n",
    "    name = '노래방',\n",
    "    legend_name = '매출차이(노래방)',\n",
    "    highlight = True\n",
    ").add_to(Map)\n",
    "\n",
    "# 행정동 위에 마우스를 올렸을 때 출력할 데이터를 설정합니다.\n",
    "Choro.geojson.add_child(\n",
    "    folium.features.GeoJsonTooltip(fields = ['DONG'], labels = False)\n",
    ")\n",
    "\n",
    "# 지도를 출력합니다.\n",
    "Map"
   ]
  },
  {
   "cell_type": "code",
   "execution_count": null,
   "id": "ebe2fecc",
   "metadata": {},
   "outputs": [],
   "source": [
    "# 지도에 추가된 레이어를 제어하는 메뉴 버튼을 추가합니다.\n",
    "folium.LayerControl().add_to(Map)\n",
    "\n",
    "# 지도를 출력합니다.\n",
    "Map"
   ]
  },
  {
   "cell_type": "code",
   "execution_count": null,
   "id": "0aa0ce37",
   "metadata": {},
   "outputs": [],
   "source": [
    "# 현재 작업경로의 상위 폴더에 image 폴더가 없으면 생성합니다.\n",
    "# image 폴더에 시각화 결과를 png 파일로 저장합니다.\n",
    "if 'image' not in os.listdir(path = '..'):\n",
    "    os.mkdir(path = '../image')"
   ]
  },
  {
   "cell_type": "code",
   "execution_count": null,
   "id": "2944f922",
   "metadata": {},
   "outputs": [],
   "source": [
    "# image 폴더로 작업경로를 변경합니다.\n",
    "os.chdir(path = '../image')"
   ]
  },
  {
   "cell_type": "code",
   "execution_count": null,
   "id": "dda5fb75",
   "metadata": {},
   "outputs": [],
   "source": [
    "# HTML 파일로 저장합니다.\n",
    "Map.save(outfile = 'Choropleth.html')"
   ]
  },
  {
   "cell_type": "markdown",
   "id": "7421756e",
   "metadata": {},
   "source": [
    "<p style=\"font-family:verdana;font-size:200%;text-align:center\">End of Document</p>"
   ]
  }
 ],
 "metadata": {
  "kernelspec": {
   "display_name": "Python 3 (ipykernel)",
   "language": "python",
   "name": "python3"
  },
  "language_info": {
   "codemirror_mode": {
    "name": "ipython",
    "version": 3
   },
   "file_extension": ".py",
   "mimetype": "text/x-python",
   "name": "python",
   "nbconvert_exporter": "python",
   "pygments_lexer": "ipython3",
   "version": "3.9.6"
  },
  "toc": {
   "base_numbering": 1,
   "nav_menu": {},
   "number_sections": true,
   "sideBar": true,
   "skip_h1_title": false,
   "title_cell": "Table of Contents",
   "title_sidebar": "Contents",
   "toc_cell": false,
   "toc_position": {},
   "toc_section_display": true,
   "toc_window_display": false
  },
  "varInspector": {
   "cols": {
    "lenName": 16,
    "lenType": 16,
    "lenVar": 40
   },
   "kernels_config": {
    "python": {
     "delete_cmd_postfix": "",
     "delete_cmd_prefix": "del ",
     "library": "var_list.py",
     "varRefreshCmd": "print(var_dic_list())"
    },
    "r": {
     "delete_cmd_postfix": ") ",
     "delete_cmd_prefix": "rm(",
     "library": "var_list.r",
     "varRefreshCmd": "cat(var_dic_list()) "
    }
   },
   "types_to_exclude": [
    "module",
    "function",
    "builtin_function_or_method",
    "instance",
    "_Feature"
   ],
   "window_display": false
  }
 },
 "nbformat": 4,
 "nbformat_minor": 5
}
